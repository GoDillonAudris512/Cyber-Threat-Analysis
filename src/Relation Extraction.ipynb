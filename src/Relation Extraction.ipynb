{
 "cells": [
  {
   "cell_type": "code",
   "execution_count": 1,
   "metadata": {
    "cell_id": "7255a4d7e74c47909efb741cff6ed938",
    "deepnote_app_is_output_hidden": true,
    "deepnote_cell_type": "code",
    "execution": {
     "iopub.execute_input": "2024-12-11T03:40:08.353512Z",
     "iopub.status.busy": "2024-12-11T03:40:08.353100Z",
     "iopub.status.idle": "2024-12-11T03:40:20.551261Z",
     "shell.execute_reply": "2024-12-11T03:40:20.549726Z",
     "shell.execute_reply.started": "2024-12-11T03:40:08.353476Z"
    },
    "execution_context_id": "2425b58a-b136-4b79-96b3-5d9fb848b50d",
    "execution_millis": 7538,
    "execution_start": 1733854704172,
    "is_output_hidden": false,
    "source_hash": "1bd4c7aa",
    "trusted": true
   },
   "outputs": [
    {
     "name": "stdout",
     "output_type": "stream",
     "text": [
      "Requirement already satisfied: transformers[torch] in /opt/conda/lib/python3.10/site-packages (4.46.3)\n",
      "Requirement already satisfied: filelock in /opt/conda/lib/python3.10/site-packages (from transformers[torch]) (3.15.1)\n",
      "Requirement already satisfied: huggingface-hub<1.0,>=0.23.2 in /opt/conda/lib/python3.10/site-packages (from transformers[torch]) (0.26.2)\n",
      "Requirement already satisfied: numpy>=1.17 in /opt/conda/lib/python3.10/site-packages (from transformers[torch]) (1.26.4)\n",
      "Requirement already satisfied: packaging>=20.0 in /opt/conda/lib/python3.10/site-packages (from transformers[torch]) (21.3)\n",
      "Requirement already satisfied: pyyaml>=5.1 in /opt/conda/lib/python3.10/site-packages (from transformers[torch]) (6.0.2)\n",
      "Requirement already satisfied: regex!=2019.12.17 in /opt/conda/lib/python3.10/site-packages (from transformers[torch]) (2024.5.15)\n",
      "Requirement already satisfied: requests in /opt/conda/lib/python3.10/site-packages (from transformers[torch]) (2.32.3)\n",
      "Requirement already satisfied: tokenizers<0.21,>=0.20 in /opt/conda/lib/python3.10/site-packages (from transformers[torch]) (0.20.3)\n",
      "Requirement already satisfied: safetensors>=0.4.1 in /opt/conda/lib/python3.10/site-packages (from transformers[torch]) (0.4.5)\n",
      "Requirement already satisfied: tqdm>=4.27 in /opt/conda/lib/python3.10/site-packages (from transformers[torch]) (4.66.4)\n",
      "Requirement already satisfied: torch in /opt/conda/lib/python3.10/site-packages (from transformers[torch]) (2.4.0+cpu)\n",
      "Requirement already satisfied: accelerate>=0.26.0 in /opt/conda/lib/python3.10/site-packages (from transformers[torch]) (1.1.1)\n",
      "Requirement already satisfied: psutil in /opt/conda/lib/python3.10/site-packages (from accelerate>=0.26.0->transformers[torch]) (5.9.3)\n",
      "Requirement already satisfied: fsspec>=2023.5.0 in /opt/conda/lib/python3.10/site-packages (from huggingface-hub<1.0,>=0.23.2->transformers[torch]) (2024.9.0)\n",
      "Requirement already satisfied: typing-extensions>=3.7.4.3 in /opt/conda/lib/python3.10/site-packages (from huggingface-hub<1.0,>=0.23.2->transformers[torch]) (4.12.2)\n",
      "Requirement already satisfied: pyparsing!=3.0.5,>=2.0.2 in /opt/conda/lib/python3.10/site-packages (from packaging>=20.0->transformers[torch]) (3.1.2)\n",
      "Requirement already satisfied: sympy in /opt/conda/lib/python3.10/site-packages (from torch->transformers[torch]) (1.13.1)\n",
      "Requirement already satisfied: networkx in /opt/conda/lib/python3.10/site-packages (from torch->transformers[torch]) (3.3)\n",
      "Requirement already satisfied: jinja2 in /opt/conda/lib/python3.10/site-packages (from torch->transformers[torch]) (3.1.4)\n",
      "Requirement already satisfied: charset-normalizer<4,>=2 in /opt/conda/lib/python3.10/site-packages (from requests->transformers[torch]) (3.3.2)\n",
      "Requirement already satisfied: idna<4,>=2.5 in /opt/conda/lib/python3.10/site-packages (from requests->transformers[torch]) (3.7)\n",
      "Requirement already satisfied: urllib3<3,>=1.21.1 in /opt/conda/lib/python3.10/site-packages (from requests->transformers[torch]) (1.26.18)\n",
      "Requirement already satisfied: certifi>=2017.4.17 in /opt/conda/lib/python3.10/site-packages (from requests->transformers[torch]) (2024.6.2)\n",
      "Requirement already satisfied: MarkupSafe>=2.0 in /opt/conda/lib/python3.10/site-packages (from jinja2->torch->transformers[torch]) (2.1.5)\n",
      "Requirement already satisfied: mpmath<1.4,>=1.1.0 in /opt/conda/lib/python3.10/site-packages (from sympy->torch->transformers[torch]) (1.3.0)\n",
      "Note: you may need to restart the kernel to use updated packages.\n"
     ]
    }
   ],
   "source": [
    "pip install transformers[torch]"
   ]
  },
  {
   "cell_type": "code",
   "execution_count": 19,
   "metadata": {
    "cell_id": "d57f070291404ed8840dc2ad6f31f3a3",
    "deepnote_app_is_output_hidden": true,
    "deepnote_cell_type": "code",
    "execution": {
     "iopub.execute_input": "2024-12-11T05:15:20.792608Z",
     "iopub.status.busy": "2024-12-11T05:15:20.792128Z",
     "iopub.status.idle": "2024-12-11T05:15:20.799497Z",
     "shell.execute_reply": "2024-12-11T05:15:20.798039Z",
     "shell.execute_reply.started": "2024-12-11T05:15:20.792568Z"
    },
    "execution_context_id": "2425b58a-b136-4b79-96b3-5d9fb848b50d",
    "execution_millis": 8131,
    "execution_start": 1733854711762,
    "is_output_hidden": true,
    "source_hash": "1c2c64fc",
    "trusted": true
   },
   "outputs": [],
   "source": [
    "import pandas as pd\n",
    "import json\n",
    "import torch\n",
    "from sklearn.preprocessing import LabelEncoder\n",
    "from transformers import DistilBertTokenizer, DistilBertForSequenceClassification, Trainer, TrainingArguments, AutoTokenizer, AutoModelForSequenceClassification\n",
    "from itertools import combinations\n",
    "from torch.utils.data import DataLoader, Dataset"
   ]
  },
  {
   "cell_type": "markdown",
   "metadata": {
    "cell_id": "d1f87323d2424e809fcf6e5bdf2fb645",
    "deepnote_cell_type": "text-cell-h3",
    "formattedRanges": []
   },
   "source": [
    "### Read and Add ID to Dataset"
   ]
  },
  {
   "cell_type": "code",
   "execution_count": 3,
   "metadata": {
    "cell_id": "b339f900c1024ae09e1cb7ce9a3fa529",
    "deepnote_cell_type": "code",
    "execution": {
     "iopub.execute_input": "2024-12-11T03:40:43.441429Z",
     "iopub.status.busy": "2024-12-11T03:40:43.440735Z",
     "iopub.status.idle": "2024-12-11T03:40:43.572068Z",
     "shell.execute_reply": "2024-12-11T03:40:43.570849Z",
     "shell.execute_reply.started": "2024-12-11T03:40:43.441394Z"
    },
    "execution_context_id": "2425b58a-b136-4b79-96b3-5d9fb848b50d",
    "execution_millis": 292,
    "execution_start": 1733854719942,
    "source_hash": "690fb38d",
    "trusted": true
   },
   "outputs": [],
   "source": [
    "# Read dataset\n",
    "pd.set_option('display.max_colwidth', None)\n",
    "threat_train = pd.read_csv('/kaggle/input/cyber-threat/cyber-threat-intelligence-splited_train.csv')\n",
    "threat_validate = pd.read_csv('/kaggle/input/cyber-threat/cyber-threat-intelligence-splited_validate.csv')\n",
    "threat_test = pd.read_csv('/kaggle/input/cyber-threat/cyber-threat-intelligence-splited_test.csv')\n",
    "\n",
    "# Add id column\n",
    "threat_train.columns = ['id'] + list(threat_train.columns[1:])\n",
    "threat_validate.columns = ['id'] + list(threat_validate.columns[1:])\n",
    "threat_test.columns = ['id'] + list(threat_test.columns[1:])"
   ]
  },
  {
   "cell_type": "markdown",
   "metadata": {
    "cell_id": "c1b024ba8f3f47b3a9e0b0d51e9c534e",
    "deepnote_cell_type": "text-cell-h3",
    "formattedRanges": []
   },
   "source": [
    "### Convert Dataset Columns Value"
   ]
  },
  {
   "cell_type": "code",
   "execution_count": 4,
   "metadata": {
    "cell_id": "d011d32e0e224fdabc25c157095d65a2",
    "deepnote_cell_type": "code",
    "execution": {
     "iopub.execute_input": "2024-12-11T03:40:43.574654Z",
     "iopub.status.busy": "2024-12-11T03:40:43.574289Z",
     "iopub.status.idle": "2024-12-11T03:40:43.584457Z",
     "shell.execute_reply": "2024-12-11T03:40:43.583221Z",
     "shell.execute_reply.started": "2024-12-11T03:40:43.574608Z"
    },
    "execution_context_id": "2425b58a-b136-4b79-96b3-5d9fb848b50d",
    "execution_millis": 0,
    "execution_start": 1733854720282,
    "source_hash": "ff10a533",
    "trusted": true
   },
   "outputs": [],
   "source": [
    "# Function to convert dataset columns\n",
    "def convert_columns(dataset):\n",
    "    \n",
    "    # Convert relations column\n",
    "    def process_relations(row):\n",
    "        entity_dict = {entity['id'] : entity['label'] for entity in json.loads(row.entities.replace(\"'\", '\"'))}\n",
    "        \n",
    "        relations = []\n",
    "        for relation in json.loads(row.relations.replace(\"'\", '\"')):\n",
    "            from_label = entity_dict[relation['from_id']]\n",
    "            to_label = entity_dict[relation['to_id']]\n",
    "            relation_type = relation['type']\n",
    "            relations.append({\"from\": from_label, \"to\": to_label, \"type\": relation_type})\n",
    "\n",
    "        unique_relations = []\n",
    "        seen_relations = set()\n",
    "        for relation in relations:\n",
    "            relation_item = tuple(relation.items())\n",
    "            if relation_item not in seen_relations:\n",
    "                seen_relations.add(relation_item)\n",
    "                unique_relations.append(relation)\n",
    "\n",
    "        return unique_relations\n",
    "    \n",
    "    dataset['relations'] = dataset.apply(process_relations, axis=1)\n",
    "    \n",
    "    # Convert entities column\n",
    "    def process_entities(row):\n",
    "        entities = [entity['label'] for entity in json.loads(row.entities.replace(\"'\", '\"'))]\n",
    "        entities = list(set(entities))\n",
    "        return entities\n",
    "    \n",
    "    dataset['entities'] = dataset.apply(process_entities, axis=1)"
   ]
  },
  {
   "cell_type": "code",
   "execution_count": 5,
   "metadata": {
    "cell_id": "195efdd965b34da3be7676aecbd590c6",
    "deepnote_cell_type": "code",
    "execution": {
     "iopub.execute_input": "2024-12-11T03:40:43.586278Z",
     "iopub.status.busy": "2024-12-11T03:40:43.585908Z",
     "iopub.status.idle": "2024-12-11T03:40:44.211697Z",
     "shell.execute_reply": "2024-12-11T03:40:44.210578Z",
     "shell.execute_reply.started": "2024-12-11T03:40:43.586247Z"
    },
    "execution_context_id": "2425b58a-b136-4b79-96b3-5d9fb848b50d",
    "execution_millis": 979,
    "execution_start": 1733854720334,
    "source_hash": "f5fd9291",
    "trusted": true
   },
   "outputs": [],
   "source": [
    "convert_columns(threat_train)\n",
    "convert_columns(threat_validate)\n",
    "convert_columns(threat_test)"
   ]
  },
  {
   "cell_type": "markdown",
   "metadata": {
    "cell_id": "489fafc71dee4dd290047f463f84b687",
    "deepnote_cell_type": "text-cell-h3",
    "formattedRanges": []
   },
   "source": [
    "### Generate Features"
   ]
  },
  {
   "cell_type": "code",
   "execution_count": 6,
   "metadata": {
    "cell_id": "4e51f5050ab548bb87c618441b147fad",
    "deepnote_cell_type": "code",
    "execution": {
     "iopub.execute_input": "2024-12-11T03:40:44.213486Z",
     "iopub.status.busy": "2024-12-11T03:40:44.213128Z",
     "iopub.status.idle": "2024-12-11T03:40:44.222080Z",
     "shell.execute_reply": "2024-12-11T03:40:44.220937Z",
     "shell.execute_reply.started": "2024-12-11T03:40:44.213453Z"
    },
    "execution_context_id": "2425b58a-b136-4b79-96b3-5d9fb848b50d",
    "execution_millis": 0,
    "execution_start": 1733854721414,
    "source_hash": "3903855d",
    "trusted": true
   },
   "outputs": [],
   "source": [
    "# Create features to be used during training\n",
    "def generate_features(dataset):\n",
    "    features = []\n",
    "\n",
    "    for index, row in dataset.iterrows():\n",
    "        text = row['text']\n",
    "        entities = row['entities']\n",
    "        relations = row['relations']\n",
    "\n",
    "        entity_pairs = list(combinations(entities, 2))\n",
    "        relation_map = {(rel['from'], rel['to']): rel['type'] for rel in relations}\n",
    "\n",
    "        for entity_1, entity_2 in entity_pairs:\n",
    "            # Generate label\n",
    "            if (entity_1, entity_2) in relation_map:\n",
    "                label = relation_map[(entity_1, entity_2)]\n",
    "            elif (entity_2, entity_1) in relation_map:\n",
    "                label = relation_map[(entity_2, entity_1)]\n",
    "            else:\n",
    "                label = \"no_relation\"\n",
    "\n",
    "            # Generate input text\n",
    "            input_text = f\"{text} [SEP] {entity_1} [SEP] {entity_2}\"\n",
    "            \n",
    "            features.append((input_text, label))\n",
    "\n",
    "    return features"
   ]
  },
  {
   "cell_type": "code",
   "execution_count": 7,
   "metadata": {
    "cell_id": "c6f28b58f4724a3192219a9eb568db78",
    "deepnote_cell_type": "code",
    "execution": {
     "iopub.execute_input": "2024-12-11T03:40:44.224213Z",
     "iopub.status.busy": "2024-12-11T03:40:44.223695Z",
     "iopub.status.idle": "2024-12-11T03:40:44.903216Z",
     "shell.execute_reply": "2024-12-11T03:40:44.902000Z",
     "shell.execute_reply.started": "2024-12-11T03:40:44.224133Z"
    },
    "execution_context_id": "2425b58a-b136-4b79-96b3-5d9fb848b50d",
    "execution_millis": 1225,
    "execution_start": 1733854721462,
    "source_hash": "4a2db6b4",
    "trusted": true
   },
   "outputs": [],
   "source": [
    "threat_train_features = generate_features(threat_train)\n",
    "threat_validate_features = generate_features(threat_validate)\n",
    "threat_test_features = generate_features(threat_test)"
   ]
  },
  {
   "cell_type": "markdown",
   "metadata": {
    "cell_id": "b211fca78d71442095c76f9e0715a6d0",
    "deepnote_cell_type": "text-cell-h3",
    "formattedRanges": []
   },
   "source": [
    "### Training Model"
   ]
  },
  {
   "cell_type": "code",
   "execution_count": 8,
   "metadata": {
    "cell_id": "e9c3f209fc814f4b9e4c980b76fc0d7a",
    "deepnote_app_is_output_hidden": true,
    "deepnote_cell_type": "code",
    "execution": {
     "iopub.execute_input": "2024-12-11T03:40:44.904945Z",
     "iopub.status.busy": "2024-12-11T03:40:44.904607Z",
     "iopub.status.idle": "2024-12-11T03:40:44.920270Z",
     "shell.execute_reply": "2024-12-11T03:40:44.918932Z",
     "shell.execute_reply.started": "2024-12-11T03:40:44.904915Z"
    },
    "execution_context_id": "2425b58a-b136-4b79-96b3-5d9fb848b50d",
    "execution_millis": 1,
    "execution_start": 1733854722741,
    "is_output_hidden": true,
    "source_hash": "e20ac90",
    "trusted": true
   },
   "outputs": [
    {
     "data": {
      "text/html": [
       "<style>#sk-container-id-1 {color: black;background-color: white;}#sk-container-id-1 pre{padding: 0;}#sk-container-id-1 div.sk-toggleable {background-color: white;}#sk-container-id-1 label.sk-toggleable__label {cursor: pointer;display: block;width: 100%;margin-bottom: 0;padding: 0.3em;box-sizing: border-box;text-align: center;}#sk-container-id-1 label.sk-toggleable__label-arrow:before {content: \"▸\";float: left;margin-right: 0.25em;color: #696969;}#sk-container-id-1 label.sk-toggleable__label-arrow:hover:before {color: black;}#sk-container-id-1 div.sk-estimator:hover label.sk-toggleable__label-arrow:before {color: black;}#sk-container-id-1 div.sk-toggleable__content {max-height: 0;max-width: 0;overflow: hidden;text-align: left;background-color: #f0f8ff;}#sk-container-id-1 div.sk-toggleable__content pre {margin: 0.2em;color: black;border-radius: 0.25em;background-color: #f0f8ff;}#sk-container-id-1 input.sk-toggleable__control:checked~div.sk-toggleable__content {max-height: 200px;max-width: 100%;overflow: auto;}#sk-container-id-1 input.sk-toggleable__control:checked~label.sk-toggleable__label-arrow:before {content: \"▾\";}#sk-container-id-1 div.sk-estimator input.sk-toggleable__control:checked~label.sk-toggleable__label {background-color: #d4ebff;}#sk-container-id-1 div.sk-label input.sk-toggleable__control:checked~label.sk-toggleable__label {background-color: #d4ebff;}#sk-container-id-1 input.sk-hidden--visually {border: 0;clip: rect(1px 1px 1px 1px);clip: rect(1px, 1px, 1px, 1px);height: 1px;margin: -1px;overflow: hidden;padding: 0;position: absolute;width: 1px;}#sk-container-id-1 div.sk-estimator {font-family: monospace;background-color: #f0f8ff;border: 1px dotted black;border-radius: 0.25em;box-sizing: border-box;margin-bottom: 0.5em;}#sk-container-id-1 div.sk-estimator:hover {background-color: #d4ebff;}#sk-container-id-1 div.sk-parallel-item::after {content: \"\";width: 100%;border-bottom: 1px solid gray;flex-grow: 1;}#sk-container-id-1 div.sk-label:hover label.sk-toggleable__label {background-color: #d4ebff;}#sk-container-id-1 div.sk-serial::before {content: \"\";position: absolute;border-left: 1px solid gray;box-sizing: border-box;top: 0;bottom: 0;left: 50%;z-index: 0;}#sk-container-id-1 div.sk-serial {display: flex;flex-direction: column;align-items: center;background-color: white;padding-right: 0.2em;padding-left: 0.2em;position: relative;}#sk-container-id-1 div.sk-item {position: relative;z-index: 1;}#sk-container-id-1 div.sk-parallel {display: flex;align-items: stretch;justify-content: center;background-color: white;position: relative;}#sk-container-id-1 div.sk-item::before, #sk-container-id-1 div.sk-parallel-item::before {content: \"\";position: absolute;border-left: 1px solid gray;box-sizing: border-box;top: 0;bottom: 0;left: 50%;z-index: -1;}#sk-container-id-1 div.sk-parallel-item {display: flex;flex-direction: column;z-index: 1;position: relative;background-color: white;}#sk-container-id-1 div.sk-parallel-item:first-child::after {align-self: flex-end;width: 50%;}#sk-container-id-1 div.sk-parallel-item:last-child::after {align-self: flex-start;width: 50%;}#sk-container-id-1 div.sk-parallel-item:only-child::after {width: 0;}#sk-container-id-1 div.sk-dashed-wrapped {border: 1px dashed gray;margin: 0 0.4em 0.5em 0.4em;box-sizing: border-box;padding-bottom: 0.4em;background-color: white;}#sk-container-id-1 div.sk-label label {font-family: monospace;font-weight: bold;display: inline-block;line-height: 1.2em;}#sk-container-id-1 div.sk-label-container {text-align: center;}#sk-container-id-1 div.sk-container {/* jupyter's `normalize.less` sets `[hidden] { display: none; }` but bootstrap.min.css set `[hidden] { display: none !important; }` so we also need the `!important` here to be able to override the default hidden behavior on the sphinx rendered scikit-learn.org. See: https://github.com/scikit-learn/scikit-learn/issues/21755 */display: inline-block !important;position: relative;}#sk-container-id-1 div.sk-text-repr-fallback {display: none;}</style><div id=\"sk-container-id-1\" class=\"sk-top-container\"><div class=\"sk-text-repr-fallback\"><pre>LabelEncoder()</pre><b>In a Jupyter environment, please rerun this cell to show the HTML representation or trust the notebook. <br />On GitHub, the HTML representation is unable to render, please try loading this page with nbviewer.org.</b></div><div class=\"sk-container\" hidden><div class=\"sk-item\"><div class=\"sk-estimator sk-toggleable\"><input class=\"sk-toggleable__control sk-hidden--visually\" id=\"sk-estimator-id-1\" type=\"checkbox\" checked><label for=\"sk-estimator-id-1\" class=\"sk-toggleable__label sk-toggleable__label-arrow\">LabelEncoder</label><div class=\"sk-toggleable__content\"><pre>LabelEncoder()</pre></div></div></div></div></div>"
      ],
      "text/plain": [
       "LabelEncoder()"
      ]
     },
     "execution_count": 8,
     "metadata": {},
     "output_type": "execute_result"
    }
   ],
   "source": [
    "# Encode labels\n",
    "label_encoder = LabelEncoder()\n",
    "labels = [label for _, label in threat_train_features]\n",
    "label_encoder.fit(labels)"
   ]
  },
  {
   "cell_type": "code",
   "execution_count": 9,
   "metadata": {
    "cell_id": "a407975bad0a472a9e005c2704eb1c6f",
    "deepnote_cell_type": "code",
    "execution": {
     "iopub.execute_input": "2024-12-11T03:40:44.921987Z",
     "iopub.status.busy": "2024-12-11T03:40:44.921553Z",
     "iopub.status.idle": "2024-12-11T03:40:44.932624Z",
     "shell.execute_reply": "2024-12-11T03:40:44.931011Z",
     "shell.execute_reply.started": "2024-12-11T03:40:44.921953Z"
    },
    "execution_context_id": "2425b58a-b136-4b79-96b3-5d9fb848b50d",
    "execution_millis": 1,
    "execution_start": 1733854722817,
    "source_hash": "fa4e390f",
    "trusted": true
   },
   "outputs": [],
   "source": [
    "class RelationDataset(Dataset):\n",
    "    def __init__(self, data, tokenizer, max_length=128):\n",
    "        self.data = data\n",
    "        self.tokenizer = tokenizer\n",
    "        self.max_length = max_length\n",
    "\n",
    "    def __len__(self):\n",
    "        return len(self.data)\n",
    "\n",
    "    def __getitem__(self, index):\n",
    "        input_text, label = self.data[index]\n",
    "        \n",
    "        encoding = self.tokenizer(\n",
    "            input_text,\n",
    "            max_length=self.max_length,\n",
    "            padding='max_length',\n",
    "            return_tensors='pt',\n",
    "            truncation=True,\n",
    "        )\n",
    "\n",
    "        label = label_encoder.transform([label])[0]\n",
    "\n",
    "        return {\n",
    "            'input_ids': encoding['input_ids'].squeeze(),\n",
    "            'attention_mask': encoding['attention_mask'].squeeze(),\n",
    "            'labels': torch.tensor(label)\n",
    "        }"
   ]
  },
  {
   "cell_type": "code",
   "execution_count": 26,
   "metadata": {
    "cell_id": "47f49d7121474abbaccdae3ac11fb484",
    "deepnote_cell_type": "code",
    "execution": {
     "iopub.execute_input": "2024-12-11T05:32:54.198861Z",
     "iopub.status.busy": "2024-12-11T05:32:54.198434Z",
     "iopub.status.idle": "2024-12-11T05:32:54.882174Z",
     "shell.execute_reply": "2024-12-11T05:32:54.880917Z",
     "shell.execute_reply.started": "2024-12-11T05:32:54.198826Z"
    },
    "execution_context_id": "2425b58a-b136-4b79-96b3-5d9fb848b50d",
    "execution_millis": 53,
    "execution_start": 1733854722866,
    "source_hash": "dea27495",
    "trusted": true
   },
   "outputs": [],
   "source": [
    "tokenizer = DistilBertTokenizer.from_pretrained(\"distilbert-base-uncased\")\n",
    "\n",
    "# Train dataset and loader\n",
    "train_dataset = RelationDataset(threat_train_features, tokenizer)\n",
    "train_loader = DataLoader(train_dataset, batch_size=8, shuffle=True)\n",
    "\n",
    "# Validate dataset and loader\n",
    "validate_dataset = RelationDataset(threat_validate_features, tokenizer)\n",
    "validate_loader = DataLoader(validate_dataset, batch_size=8, shuffle=False)"
   ]
  },
  {
   "cell_type": "code",
   "execution_count": 11,
   "metadata": {
    "cell_id": "d34fe06bbb75442184353ab4dbf4bd81",
    "deepnote_cell_type": "code",
    "execution": {
     "iopub.execute_input": "2024-12-11T03:40:48.128542Z",
     "iopub.status.busy": "2024-12-11T03:40:48.128184Z",
     "iopub.status.idle": "2024-12-11T04:43:34.878489Z",
     "shell.execute_reply": "2024-12-11T04:43:34.876685Z",
     "shell.execute_reply.started": "2024-12-11T03:40:48.128508Z"
    },
    "execution_context_id": "2425b58a-b136-4b79-96b3-5d9fb848b50d",
    "execution_millis": 1137,
    "execution_start": 1733854723018,
    "source_hash": "8a6dc98f",
    "trusted": true
   },
   "outputs": [
    {
     "data": {
      "application/vnd.jupyter.widget-view+json": {
       "model_id": "85e2dc889bdf4ff88cc60b884c000db9",
       "version_major": 2,
       "version_minor": 0
      },
      "text/plain": [
       "model.safetensors:   0%|          | 0.00/268M [00:00<?, ?B/s]"
      ]
     },
     "metadata": {},
     "output_type": "display_data"
    },
    {
     "name": "stderr",
     "output_type": "stream",
     "text": [
      "Some weights of DistilBertForSequenceClassification were not initialized from the model checkpoint at distilbert-base-uncased and are newly initialized: ['classifier.bias', 'classifier.weight', 'pre_classifier.bias', 'pre_classifier.weight']\n",
      "You should probably TRAIN this model on a down-stream task to be able to use it for predictions and inference.\n",
      "/opt/conda/lib/python3.10/site-packages/transformers/training_args.py:1568: FutureWarning: `evaluation_strategy` is deprecated and will be removed in version 4.46 of 🤗 Transformers. Use `eval_strategy` instead\n",
      "  warnings.warn(\n"
     ]
    },
    {
     "data": {
      "text/html": [
       "\n",
       "    <div>\n",
       "      \n",
       "      <progress value='1176' max='1176' style='width:300px; height:20px; vertical-align: middle;'></progress>\n",
       "      [1176/1176 1:02:39, Epoch 3/3]\n",
       "    </div>\n",
       "    <table border=\"1\" class=\"dataframe\">\n",
       "  <thead>\n",
       " <tr style=\"text-align: left;\">\n",
       "      <th>Epoch</th>\n",
       "      <th>Training Loss</th>\n",
       "      <th>Validation Loss</th>\n",
       "    </tr>\n",
       "  </thead>\n",
       "  <tbody>\n",
       "    <tr>\n",
       "      <td>1</td>\n",
       "      <td>No log</td>\n",
       "      <td>0.580546</td>\n",
       "    </tr>\n",
       "    <tr>\n",
       "      <td>2</td>\n",
       "      <td>1.064100</td>\n",
       "      <td>0.502068</td>\n",
       "    </tr>\n",
       "    <tr>\n",
       "      <td>3</td>\n",
       "      <td>0.519600</td>\n",
       "      <td>0.488980</td>\n",
       "    </tr>\n",
       "  </tbody>\n",
       "</table><p>"
      ],
      "text/plain": [
       "<IPython.core.display.HTML object>"
      ]
     },
     "metadata": {},
     "output_type": "display_data"
    },
    {
     "data": {
      "text/plain": [
       "TrainOutput(global_step=1176, training_loss=0.7357732357622004, metrics={'train_runtime': 3763.6202, 'train_samples_per_second': 2.499, 'train_steps_per_second': 0.312, 'total_flos': 311586170480640.0, 'train_loss': 0.7357732357622004, 'epoch': 3.0})"
      ]
     },
     "execution_count": 11,
     "metadata": {},
     "output_type": "execute_result"
    }
   ],
   "source": [
    "# Model\n",
    "model = DistilBertForSequenceClassification.from_pretrained(\"distilbert-base-uncased\", num_labels=len(label_encoder.classes_))\n",
    "\n",
    "# Training arguments\n",
    "training_args = TrainingArguments(\n",
    "    output_dir=\"./model\",\n",
    "    num_train_epochs=3,\n",
    "    per_device_train_batch_size=8,\n",
    "    per_device_eval_batch_size=8,\n",
    "    warmup_steps=500,\n",
    "    evaluation_strategy=\"epoch\",\n",
    "    save_strategy=\"epoch\",\n",
    "    report_to=\"none\"\n",
    ")\n",
    "\n",
    "trainer = Trainer(\n",
    "    model = model,\n",
    "    args = training_args,\n",
    "    train_dataset = train_dataset,\n",
    "    eval_dataset = validate_dataset\n",
    ")\n",
    "\n",
    "# Train the model\n",
    "trainer.train()"
   ]
  },
  {
   "cell_type": "markdown",
   "metadata": {
    "cell_id": "235ea73602fd49ddbb8c3434b7fceb27",
    "deepnote_cell_type": "text-cell-h3",
    "formattedRanges": []
   },
   "source": [
    "### Model Evaluation"
   ]
  },
  {
   "cell_type": "code",
   "execution_count": 12,
   "metadata": {
    "cell_id": "1df836c179c341e1bacdd111aef13832",
    "deepnote_cell_type": "code",
    "deepnote_to_be_reexecuted": true,
    "execution": {
     "iopub.execute_input": "2024-12-11T04:43:34.881862Z",
     "iopub.status.busy": "2024-12-11T04:43:34.881262Z",
     "iopub.status.idle": "2024-12-11T04:44:38.291973Z",
     "shell.execute_reply": "2024-12-11T04:44:38.290824Z",
     "shell.execute_reply.started": "2024-12-11T04:43:34.881800Z"
    },
    "execution_context_id": "fbe32620-58bd-46fb-922c-9f2e335d2a06",
    "execution_millis": 1,
    "execution_start": 1733854432016,
    "source_hash": "39e7b96a",
    "trusted": true
   },
   "outputs": [
    {
     "data": {
      "text/html": [
       "\n",
       "    <div>\n",
       "      \n",
       "      <progress value='77' max='77' style='width:300px; height:20px; vertical-align: middle;'></progress>\n",
       "      [77/77 01:02]\n",
       "    </div>\n",
       "    "
      ],
      "text/plain": [
       "<IPython.core.display.HTML object>"
      ]
     },
     "metadata": {},
     "output_type": "display_data"
    },
    {
     "data": {
      "text/plain": [
       "{'eval_loss': 0.4889800548553467,\n",
       " 'eval_runtime': 63.3999,\n",
       " 'eval_samples_per_second': 9.606,\n",
       " 'eval_steps_per_second': 1.215,\n",
       " 'epoch': 3.0}"
      ]
     },
     "execution_count": 12,
     "metadata": {},
     "output_type": "execute_result"
    }
   ],
   "source": [
    "# Evaluate model\n",
    "trainer.evaluate()"
   ]
  },
  {
   "cell_type": "markdown",
   "metadata": {},
   "source": [
    "### Model Prediction"
   ]
  },
  {
   "cell_type": "code",
   "execution_count": 18,
   "metadata": {
    "execution": {
     "iopub.execute_input": "2024-12-11T05:14:10.697117Z",
     "iopub.status.busy": "2024-12-11T05:14:10.696615Z",
     "iopub.status.idle": "2024-12-11T05:14:10.704495Z",
     "shell.execute_reply": "2024-12-11T05:14:10.703068Z",
     "shell.execute_reply.started": "2024-12-11T05:14:10.697080Z"
    },
    "trusted": true
   },
   "outputs": [],
   "source": [
    "def generate_new_data_feature(text, entities):\n",
    "    processed_entities = [entity for entity in entities if entity != 'O']\n",
    "    processed_entities = [entity[2:] if entity.startswith((\"B-\", \"I-\")) else entity for entity in processed_entities]\n",
    "    \n",
    "    entity_pairs = list(combinations(entities, 2))\n",
    "\n",
    "    features = []\n",
    "    for entity_1, entity_2 in entity_pairs:\n",
    "        # Generate input text\n",
    "        input_text = f\"{text} [SEP] {entity_1} [SEP] {entity_2}\"\n",
    "        \n",
    "        features.append([input_text, entity_1, entity_2])\n",
    "\n",
    "    return features"
   ]
  },
  {
   "cell_type": "code",
   "execution_count": 25,
   "metadata": {
    "execution": {
     "iopub.execute_input": "2024-12-11T05:32:41.484404Z",
     "iopub.status.busy": "2024-12-11T05:32:41.483369Z",
     "iopub.status.idle": "2024-12-11T05:32:41.525653Z",
     "shell.execute_reply": "2024-12-11T05:32:41.524259Z",
     "shell.execute_reply.started": "2024-12-11T05:32:41.484362Z"
    },
    "trusted": true
   },
   "outputs": [],
   "source": [
    "model_dir = \"./model/checkpoint-1176\"\n",
    "loaded_model = AutoModelForSequenceClassification.from_pretrained(model_dir)\n",
    "\n",
    "label_list = ['attributed-to',\n",
    "             'authored-by', \n",
    "             'beacons-to',\n",
    "             'communicates-with',\n",
    "             'compromises',\n",
    "             'consists-of', \n",
    "             'controls', \n",
    "             'delivers', \n",
    "             'downloads', \n",
    "             'drops',\n",
    "             'duplicate-of', \n",
    "             'exfiltrates-to', \n",
    "             'exploits', \n",
    "             'has', \n",
    "             'hosts', \n",
    "             'impersonates',\n",
    "             'indicates', \n",
    "             'located-at', \n",
    "             'no_relation', \n",
    "             'originates-from', \n",
    "             'owns',\n",
    "             'related-to', \n",
    "             'targets', \n",
    "             'uses']"
   ]
  },
  {
   "cell_type": "code",
   "execution_count": null,
   "metadata": {
    "execution": {
     "iopub.execute_input": "2024-12-11T05:38:14.735211Z",
     "iopub.status.busy": "2024-12-11T05:38:14.734706Z",
     "iopub.status.idle": "2024-12-11T05:38:14.742528Z",
     "shell.execute_reply": "2024-12-11T05:38:14.741186Z",
     "shell.execute_reply.started": "2024-12-11T05:38:14.735171Z"
    },
    "trusted": true
   },
   "outputs": [],
   "source": [
    "def predict_relations(text, entities):\n",
    "    features = generate_new_data_feature(text, entities)\n",
    "\n",
    "    relations = []\n",
    "    for feature in features:\n",
    "        inputs = tokenizer(feature[0], return_tensors=\"pt\")\n",
    "        outputs = loaded_model(**inputs)\n",
    "\n",
    "        predictions = outputs.logits\n",
    "        predicted_label = predictions.argmax(dim=1).item()\n",
    "\n",
    "        decoded_label = label_list[predicted_label]\n",
    "\n",
    "        if decoded_label != 'no_relation':\n",
    "            relations.append(feature[1] + \" \" + decoded_label + \" \" + feature[2])\n",
    "\n",
    "    return relations"
   ]
  }
 ],
 "metadata": {
  "deepnote_notebook_id": "0f76f78694a1489c8145808d7594b98c",
  "kaggle": {
   "accelerator": "none",
   "dataSources": [
    {
     "datasetId": 6275444,
     "sourceId": 10162468,
     "sourceType": "datasetVersion"
    }
   ],
   "dockerImageVersionId": 30804,
   "isGpuEnabled": false,
   "isInternetEnabled": true,
   "language": "python",
   "sourceType": "notebook"
  },
  "kernelspec": {
   "display_name": "Python 3",
   "language": "python",
   "name": "python3"
  },
  "language_info": {
   "codemirror_mode": {
    "name": "ipython",
    "version": 3
   },
   "file_extension": ".py",
   "mimetype": "text/x-python",
   "name": "python",
   "nbconvert_exporter": "python",
   "pygments_lexer": "ipython3",
   "version": "3.10.14"
  }
 },
 "nbformat": 4,
 "nbformat_minor": 4
}
