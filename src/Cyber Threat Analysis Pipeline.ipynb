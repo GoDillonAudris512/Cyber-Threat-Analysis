{
  "cells": [
    {
      "cell_type": "code",
      "execution_count": null,
      "metadata": {
        "cell_id": "64a791390fd845e5a30963b58d2a9d86",
        "colab": {
          "base_uri": "https://localhost:8080/",
          "height": 1000
        },
        "deepnote_cell_type": "code",
        "execution_context_id": "e375f846-efe8-487e-8f29-2fb993111e4a",
        "execution_millis": 9095,
        "execution_start": 1732023297241,
        "id": "AC5fyXgKhWg1",
        "outputId": "554f177d-9f32-45cb-b4e0-1131949e6a64",
        "source_hash": "b89f2e67"
      },
      "outputs": [
        {
          "name": "stdout",
          "output_type": "stream",
          "text": [
            "Collecting tensorflow==2.10.1\n",
            "  Downloading tensorflow-2.10.1-cp310-cp310-manylinux_2_17_x86_64.manylinux2014_x86_64.whl.metadata (3.1 kB)\n",
            "Collecting transformers==4.30.2\n",
            "  Downloading transformers-4.30.2-py3-none-any.whl.metadata (113 kB)\n",
            "\u001b[2K     \u001b[90m━━━━━━━━━━━━━━━━━━━━━━━━━━━━━━━━━━━━━━━━\u001b[0m \u001b[32m113.6/113.6 kB\u001b[0m \u001b[31m8.4 MB/s\u001b[0m eta \u001b[36m0:00:00\u001b[0m\n",
            "\u001b[?25hRequirement already satisfied: absl-py>=1.0.0 in /usr/local/lib/python3.10/dist-packages (from tensorflow==2.10.1) (1.4.0)\n",
            "Requirement already satisfied: astunparse>=1.6.0 in /usr/local/lib/python3.10/dist-packages (from tensorflow==2.10.1) (1.6.3)\n",
            "Requirement already satisfied: flatbuffers>=2.0 in /usr/local/lib/python3.10/dist-packages (from tensorflow==2.10.1) (24.3.25)\n",
            "Collecting gast<=0.4.0,>=0.2.1 (from tensorflow==2.10.1)\n",
            "  Downloading gast-0.4.0-py3-none-any.whl.metadata (1.1 kB)\n",
            "Requirement already satisfied: google-pasta>=0.1.1 in /usr/local/lib/python3.10/dist-packages (from tensorflow==2.10.1) (0.2.0)\n",
            "Requirement already satisfied: grpcio<2.0,>=1.24.3 in /usr/local/lib/python3.10/dist-packages (from tensorflow==2.10.1) (1.68.1)\n",
            "Requirement already satisfied: h5py>=2.9.0 in /usr/local/lib/python3.10/dist-packages (from tensorflow==2.10.1) (3.12.1)\n",
            "Collecting keras<2.11,>=2.10.0 (from tensorflow==2.10.1)\n",
            "  Downloading keras-2.10.0-py2.py3-none-any.whl.metadata (1.3 kB)\n",
            "Collecting keras-preprocessing>=1.1.1 (from tensorflow==2.10.1)\n",
            "  Downloading Keras_Preprocessing-1.1.2-py2.py3-none-any.whl.metadata (1.9 kB)\n",
            "Requirement already satisfied: libclang>=13.0.0 in /usr/local/lib/python3.10/dist-packages (from tensorflow==2.10.1) (18.1.1)\n",
            "Requirement already satisfied: numpy>=1.20 in /usr/local/lib/python3.10/dist-packages (from tensorflow==2.10.1) (1.26.4)\n",
            "Requirement already satisfied: opt-einsum>=2.3.2 in /usr/local/lib/python3.10/dist-packages (from tensorflow==2.10.1) (3.4.0)\n",
            "Requirement already satisfied: packaging in /usr/local/lib/python3.10/dist-packages (from tensorflow==2.10.1) (24.2)\n",
            "Collecting protobuf<3.20,>=3.9.2 (from tensorflow==2.10.1)\n",
            "  Downloading protobuf-3.19.6-cp310-cp310-manylinux_2_17_x86_64.manylinux2014_x86_64.whl.metadata (787 bytes)\n",
            "Requirement already satisfied: setuptools in /usr/local/lib/python3.10/dist-packages (from tensorflow==2.10.1) (75.1.0)\n",
            "Requirement already satisfied: six>=1.12.0 in /usr/local/lib/python3.10/dist-packages (from tensorflow==2.10.1) (1.16.0)\n",
            "Collecting tensorboard<2.11,>=2.10 (from tensorflow==2.10.1)\n",
            "  Downloading tensorboard-2.10.1-py3-none-any.whl.metadata (1.9 kB)\n",
            "Requirement already satisfied: tensorflow-io-gcs-filesystem>=0.23.1 in /usr/local/lib/python3.10/dist-packages (from tensorflow==2.10.1) (0.37.1)\n",
            "Collecting tensorflow-estimator<2.11,>=2.10.0 (from tensorflow==2.10.1)\n",
            "  Downloading tensorflow_estimator-2.10.0-py2.py3-none-any.whl.metadata (1.3 kB)\n",
            "Requirement already satisfied: termcolor>=1.1.0 in /usr/local/lib/python3.10/dist-packages (from tensorflow==2.10.1) (2.5.0)\n",
            "Requirement already satisfied: typing-extensions>=3.6.6 in /usr/local/lib/python3.10/dist-packages (from tensorflow==2.10.1) (4.12.2)\n",
            "Requirement already satisfied: wrapt>=1.11.0 in /usr/local/lib/python3.10/dist-packages (from tensorflow==2.10.1) (1.17.0)\n",
            "Requirement already satisfied: filelock in /usr/local/lib/python3.10/dist-packages (from transformers==4.30.2) (3.16.1)\n",
            "Requirement already satisfied: huggingface-hub<1.0,>=0.14.1 in /usr/local/lib/python3.10/dist-packages (from transformers==4.30.2) (0.26.3)\n",
            "Requirement already satisfied: pyyaml>=5.1 in /usr/local/lib/python3.10/dist-packages (from transformers==4.30.2) (6.0.2)\n",
            "Requirement already satisfied: regex!=2019.12.17 in /usr/local/lib/python3.10/dist-packages (from transformers==4.30.2) (2024.9.11)\n",
            "Requirement already satisfied: requests in /usr/local/lib/python3.10/dist-packages (from transformers==4.30.2) (2.32.3)\n",
            "Collecting tokenizers!=0.11.3,<0.14,>=0.11.1 (from transformers==4.30.2)\n",
            "  Downloading tokenizers-0.13.3-cp310-cp310-manylinux_2_17_x86_64.manylinux2014_x86_64.whl.metadata (6.7 kB)\n",
            "Requirement already satisfied: safetensors>=0.3.1 in /usr/local/lib/python3.10/dist-packages (from transformers==4.30.2) (0.4.5)\n",
            "Requirement already satisfied: tqdm>=4.27 in /usr/local/lib/python3.10/dist-packages (from transformers==4.30.2) (4.66.6)\n",
            "Requirement already satisfied: wheel<1.0,>=0.23.0 in /usr/local/lib/python3.10/dist-packages (from astunparse>=1.6.0->tensorflow==2.10.1) (0.45.1)\n",
            "Requirement already satisfied: fsspec>=2023.5.0 in /usr/local/lib/python3.10/dist-packages (from huggingface-hub<1.0,>=0.14.1->transformers==4.30.2) (2024.10.0)\n",
            "Requirement already satisfied: google-auth<3,>=1.6.3 in /usr/local/lib/python3.10/dist-packages (from tensorboard<2.11,>=2.10->tensorflow==2.10.1) (2.27.0)\n",
            "Collecting google-auth-oauthlib<0.5,>=0.4.1 (from tensorboard<2.11,>=2.10->tensorflow==2.10.1)\n",
            "  Downloading google_auth_oauthlib-0.4.6-py2.py3-none-any.whl.metadata (2.7 kB)\n",
            "Requirement already satisfied: markdown>=2.6.8 in /usr/local/lib/python3.10/dist-packages (from tensorboard<2.11,>=2.10->tensorflow==2.10.1) (3.7)\n",
            "Collecting tensorboard-data-server<0.7.0,>=0.6.0 (from tensorboard<2.11,>=2.10->tensorflow==2.10.1)\n",
            "  Downloading tensorboard_data_server-0.6.1-py3-none-manylinux2010_x86_64.whl.metadata (1.1 kB)\n",
            "Collecting tensorboard-plugin-wit>=1.6.0 (from tensorboard<2.11,>=2.10->tensorflow==2.10.1)\n",
            "  Downloading tensorboard_plugin_wit-1.8.1-py3-none-any.whl.metadata (873 bytes)\n",
            "Requirement already satisfied: werkzeug>=1.0.1 in /usr/local/lib/python3.10/dist-packages (from tensorboard<2.11,>=2.10->tensorflow==2.10.1) (3.1.3)\n",
            "Requirement already satisfied: charset-normalizer<4,>=2 in /usr/local/lib/python3.10/dist-packages (from requests->transformers==4.30.2) (3.4.0)\n",
            "Requirement already satisfied: idna<4,>=2.5 in /usr/local/lib/python3.10/dist-packages (from requests->transformers==4.30.2) (3.10)\n",
            "Requirement already satisfied: urllib3<3,>=1.21.1 in /usr/local/lib/python3.10/dist-packages (from requests->transformers==4.30.2) (2.2.3)\n",
            "Requirement already satisfied: certifi>=2017.4.17 in /usr/local/lib/python3.10/dist-packages (from requests->transformers==4.30.2) (2024.8.30)\n",
            "Requirement already satisfied: cachetools<6.0,>=2.0.0 in /usr/local/lib/python3.10/dist-packages (from google-auth<3,>=1.6.3->tensorboard<2.11,>=2.10->tensorflow==2.10.1) (5.5.0)\n",
            "Requirement already satisfied: pyasn1-modules>=0.2.1 in /usr/local/lib/python3.10/dist-packages (from google-auth<3,>=1.6.3->tensorboard<2.11,>=2.10->tensorflow==2.10.1) (0.4.1)\n",
            "Requirement already satisfied: rsa<5,>=3.1.4 in /usr/local/lib/python3.10/dist-packages (from google-auth<3,>=1.6.3->tensorboard<2.11,>=2.10->tensorflow==2.10.1) (4.9)\n",
            "Requirement already satisfied: requests-oauthlib>=0.7.0 in /usr/local/lib/python3.10/dist-packages (from google-auth-oauthlib<0.5,>=0.4.1->tensorboard<2.11,>=2.10->tensorflow==2.10.1) (1.3.1)\n",
            "Requirement already satisfied: MarkupSafe>=2.1.1 in /usr/local/lib/python3.10/dist-packages (from werkzeug>=1.0.1->tensorboard<2.11,>=2.10->tensorflow==2.10.1) (3.0.2)\n",
            "Requirement already satisfied: pyasn1<0.7.0,>=0.4.6 in /usr/local/lib/python3.10/dist-packages (from pyasn1-modules>=0.2.1->google-auth<3,>=1.6.3->tensorboard<2.11,>=2.10->tensorflow==2.10.1) (0.6.1)\n",
            "Requirement already satisfied: oauthlib>=3.0.0 in /usr/local/lib/python3.10/dist-packages (from requests-oauthlib>=0.7.0->google-auth-oauthlib<0.5,>=0.4.1->tensorboard<2.11,>=2.10->tensorflow==2.10.1) (3.2.2)\n",
            "Downloading tensorflow-2.10.1-cp310-cp310-manylinux_2_17_x86_64.manylinux2014_x86_64.whl (578.1 MB)\n",
            "\u001b[2K   \u001b[90m━━━━━━━━━━━━━━━━━━━━━━━━━━━━━━━━━━━━━━━━\u001b[0m \u001b[32m578.1/578.1 MB\u001b[0m \u001b[31m3.0 MB/s\u001b[0m eta \u001b[36m0:00:00\u001b[0m\n",
            "\u001b[?25hDownloading transformers-4.30.2-py3-none-any.whl (7.2 MB)\n",
            "\u001b[2K   \u001b[90m━━━━━━━━━━━━━━━━━━━━━━━━━━━━━━━━━━━━━━━━\u001b[0m \u001b[32m7.2/7.2 MB\u001b[0m \u001b[31m50.7 MB/s\u001b[0m eta \u001b[36m0:00:00\u001b[0m\n",
            "\u001b[?25hDownloading gast-0.4.0-py3-none-any.whl (9.8 kB)\n",
            "Downloading keras-2.10.0-py2.py3-none-any.whl (1.7 MB)\n",
            "\u001b[2K   \u001b[90m━━━━━━━━━━━━━━━━━━━━━━━━━━━━━━━━━━━━━━━━\u001b[0m \u001b[32m1.7/1.7 MB\u001b[0m \u001b[31m60.7 MB/s\u001b[0m eta \u001b[36m0:00:00\u001b[0m\n",
            "\u001b[?25hDownloading Keras_Preprocessing-1.1.2-py2.py3-none-any.whl (42 kB)\n",
            "\u001b[2K   \u001b[90m━━━━━━━━━━━━━━━━━━━━━━━━━━━━━━━━━━━━━━━━\u001b[0m \u001b[32m42.6/42.6 kB\u001b[0m \u001b[31m3.6 MB/s\u001b[0m eta \u001b[36m0:00:00\u001b[0m\n",
            "\u001b[?25hDownloading protobuf-3.19.6-cp310-cp310-manylinux_2_17_x86_64.manylinux2014_x86_64.whl (1.1 MB)\n",
            "\u001b[2K   \u001b[90m━━━━━━━━━━━━━━━━━━━━━━━━━━━━━━━━━━━━━━━━\u001b[0m \u001b[32m1.1/1.1 MB\u001b[0m \u001b[31m59.2 MB/s\u001b[0m eta \u001b[36m0:00:00\u001b[0m\n",
            "\u001b[?25hDownloading tensorboard-2.10.1-py3-none-any.whl (5.9 MB)\n",
            "\u001b[2K   \u001b[90m━━━━━━━━━━━━━━━━━━━━━━━━━━━━━━━━━━━━━━━━\u001b[0m \u001b[32m5.9/5.9 MB\u001b[0m \u001b[31m116.5 MB/s\u001b[0m eta \u001b[36m0:00:00\u001b[0m\n",
            "\u001b[?25hDownloading tensorflow_estimator-2.10.0-py2.py3-none-any.whl (438 kB)\n",
            "\u001b[2K   \u001b[90m━━━━━━━━━━━━━━━━━━━━━━━━━━━━━━━━━━━━━━━━\u001b[0m \u001b[32m438.7/438.7 kB\u001b[0m \u001b[31m34.4 MB/s\u001b[0m eta \u001b[36m0:00:00\u001b[0m\n",
            "\u001b[?25hDownloading tokenizers-0.13.3-cp310-cp310-manylinux_2_17_x86_64.manylinux2014_x86_64.whl (7.8 MB)\n",
            "\u001b[2K   \u001b[90m━━━━━━━━━━━━━━━━━━━━━━━━━━━━━━━━━━━━━━━━\u001b[0m \u001b[32m7.8/7.8 MB\u001b[0m \u001b[31m112.5 MB/s\u001b[0m eta \u001b[36m0:00:00\u001b[0m\n",
            "\u001b[?25hDownloading google_auth_oauthlib-0.4.6-py2.py3-none-any.whl (18 kB)\n",
            "Downloading tensorboard_data_server-0.6.1-py3-none-manylinux2010_x86_64.whl (4.9 MB)\n",
            "\u001b[2K   \u001b[90m━━━━━━━━━━━━━━━━━━━━━━━━━━━━━━━━━━━━━━━━\u001b[0m \u001b[32m4.9/4.9 MB\u001b[0m \u001b[31m110.8 MB/s\u001b[0m eta \u001b[36m0:00:00\u001b[0m\n",
            "\u001b[?25hDownloading tensorboard_plugin_wit-1.8.1-py3-none-any.whl (781 kB)\n",
            "\u001b[2K   \u001b[90m━━━━━━━━━━━━━━━━━━━━━━━━━━━━━━━━━━━━━━━━\u001b[0m \u001b[32m781.3/781.3 kB\u001b[0m \u001b[31m50.3 MB/s\u001b[0m eta \u001b[36m0:00:00\u001b[0m\n",
            "\u001b[?25hInstalling collected packages: tokenizers, tensorboard-plugin-wit, keras, tensorflow-estimator, tensorboard-data-server, protobuf, keras-preprocessing, gast, transformers, google-auth-oauthlib, tensorboard, tensorflow\n",
            "  Attempting uninstall: tokenizers\n",
            "    Found existing installation: tokenizers 0.20.3\n",
            "    Uninstalling tokenizers-0.20.3:\n",
            "      Successfully uninstalled tokenizers-0.20.3\n",
            "  Attempting uninstall: keras\n",
            "    Found existing installation: keras 3.5.0\n",
            "    Uninstalling keras-3.5.0:\n",
            "      Successfully uninstalled keras-3.5.0\n",
            "  Attempting uninstall: tensorboard-data-server\n",
            "    Found existing installation: tensorboard-data-server 0.7.2\n",
            "    Uninstalling tensorboard-data-server-0.7.2:\n",
            "      Successfully uninstalled tensorboard-data-server-0.7.2\n",
            "  Attempting uninstall: protobuf\n",
            "    Found existing installation: protobuf 4.25.5\n",
            "    Uninstalling protobuf-4.25.5:\n",
            "      Successfully uninstalled protobuf-4.25.5\n",
            "  Attempting uninstall: gast\n",
            "    Found existing installation: gast 0.6.0\n",
            "    Uninstalling gast-0.6.0:\n",
            "      Successfully uninstalled gast-0.6.0\n",
            "  Attempting uninstall: transformers\n",
            "    Found existing installation: transformers 4.46.3\n",
            "    Uninstalling transformers-4.46.3:\n",
            "      Successfully uninstalled transformers-4.46.3\n",
            "  Attempting uninstall: google-auth-oauthlib\n",
            "    Found existing installation: google-auth-oauthlib 1.2.1\n",
            "    Uninstalling google-auth-oauthlib-1.2.1:\n",
            "      Successfully uninstalled google-auth-oauthlib-1.2.1\n",
            "  Attempting uninstall: tensorboard\n",
            "    Found existing installation: tensorboard 2.17.1\n",
            "    Uninstalling tensorboard-2.17.1:\n",
            "      Successfully uninstalled tensorboard-2.17.1\n",
            "  Attempting uninstall: tensorflow\n",
            "    Found existing installation: tensorflow 2.17.1\n",
            "    Uninstalling tensorflow-2.17.1:\n",
            "      Successfully uninstalled tensorflow-2.17.1\n",
            "\u001b[31mERROR: pip's dependency resolver does not currently take into account all the packages that are installed. This behaviour is the source of the following dependency conflicts.\n",
            "google-ai-generativelanguage 0.6.10 requires protobuf!=4.21.0,!=4.21.1,!=4.21.2,!=4.21.3,!=4.21.4,!=4.21.5,<6.0.0dev,>=3.20.2, but you have protobuf 3.19.6 which is incompatible.\n",
            "google-cloud-aiplatform 1.73.0 requires protobuf!=4.21.0,!=4.21.1,!=4.21.2,!=4.21.3,!=4.21.4,!=4.21.5,<6.0.0dev,>=3.20.2, but you have protobuf 3.19.6 which is incompatible.\n",
            "google-cloud-bigquery-connection 1.16.1 requires protobuf!=4.21.0,!=4.21.1,!=4.21.2,!=4.21.3,!=4.21.4,!=4.21.5,<6.0.0dev,>=3.20.2, but you have protobuf 3.19.6 which is incompatible.\n",
            "google-cloud-bigquery-storage 2.27.0 requires protobuf!=3.20.0,!=3.20.1,!=4.21.0,!=4.21.1,!=4.21.2,!=4.21.3,!=4.21.4,!=4.21.5,<6.0.0dev,>=3.20.2, but you have protobuf 3.19.6 which is incompatible.\n",
            "google-cloud-bigtable 2.27.0 requires protobuf!=4.21.0,!=4.21.1,!=4.21.2,!=4.21.3,!=4.21.4,!=4.21.5,<6.0.0dev,>=3.20.2, but you have protobuf 3.19.6 which is incompatible.\n",
            "google-cloud-datastore 2.20.1 requires protobuf!=3.20.0,!=3.20.1,!=4.21.0,!=4.21.1,!=4.21.2,!=4.21.3,!=4.21.4,!=4.21.5,<6.0.0dev,>=3.20.2, but you have protobuf 3.19.6 which is incompatible.\n",
            "google-cloud-firestore 2.19.0 requires protobuf!=3.20.0,!=3.20.1,!=4.21.0,!=4.21.1,!=4.21.2,!=4.21.3,!=4.21.4,!=4.21.5,<6.0.0dev,>=3.20.2, but you have protobuf 3.19.6 which is incompatible.\n",
            "google-cloud-functions 1.18.1 requires protobuf!=4.21.0,!=4.21.1,!=4.21.2,!=4.21.3,!=4.21.4,!=4.21.5,<6.0.0dev,>=3.20.2, but you have protobuf 3.19.6 which is incompatible.\n",
            "google-cloud-iam 2.16.1 requires protobuf!=4.21.0,!=4.21.1,!=4.21.2,!=4.21.3,!=4.21.4,!=4.21.5,<6.0.0dev,>=3.20.2, but you have protobuf 3.19.6 which is incompatible.\n",
            "google-cloud-language 2.15.1 requires protobuf!=4.21.0,!=4.21.1,!=4.21.2,!=4.21.3,!=4.21.4,!=4.21.5,<6.0.0dev,>=3.20.2, but you have protobuf 3.19.6 which is incompatible.\n",
            "google-cloud-pubsub 2.27.1 requires protobuf!=4.21.0,!=4.21.1,!=4.21.2,!=4.21.3,!=4.21.4,!=4.21.5,<6.0.0dev,>=3.20.2, but you have protobuf 3.19.6 which is incompatible.\n",
            "google-cloud-resource-manager 1.13.1 requires protobuf!=4.21.0,!=4.21.1,!=4.21.2,!=4.21.3,!=4.21.4,!=4.21.5,<6.0.0dev,>=3.20.2, but you have protobuf 3.19.6 which is incompatible.\n",
            "google-cloud-translate 3.17.0 requires protobuf!=4.21.0,!=4.21.1,!=4.21.2,!=4.21.3,!=4.21.4,!=4.21.5,<6.0.0dev,>=3.20.2, but you have protobuf 3.19.6 which is incompatible.\n",
            "googleapis-common-protos 1.66.0 requires protobuf!=3.20.0,!=3.20.1,!=4.21.1,!=4.21.2,!=4.21.3,!=4.21.4,!=4.21.5,<6.0.0.dev0,>=3.20.2, but you have protobuf 3.19.6 which is incompatible.\n",
            "grpc-google-iam-v1 0.13.1 requires protobuf!=4.21.1,!=4.21.2,!=4.21.3,!=4.21.4,!=4.21.5,<6.0.0dev,>=3.20.2, but you have protobuf 3.19.6 which is incompatible.\n",
            "grpcio-status 1.62.3 requires protobuf>=4.21.6, but you have protobuf 3.19.6 which is incompatible.\n",
            "pandas-gbq 0.24.0 requires google-auth-oauthlib>=0.7.0, but you have google-auth-oauthlib 0.4.6 which is incompatible.\n",
            "sentence-transformers 3.2.1 requires transformers<5.0.0,>=4.41.0, but you have transformers 4.30.2 which is incompatible.\n",
            "tensorflow-datasets 4.9.7 requires protobuf>=3.20, but you have protobuf 3.19.6 which is incompatible.\n",
            "tensorflow-metadata 1.13.1 requires protobuf<5,>=3.20.3, but you have protobuf 3.19.6 which is incompatible.\n",
            "tf-keras 2.17.0 requires tensorflow<2.18,>=2.17, but you have tensorflow 2.10.1 which is incompatible.\u001b[0m\u001b[31m\n",
            "\u001b[0mSuccessfully installed gast-0.4.0 google-auth-oauthlib-0.4.6 keras-2.10.0 keras-preprocessing-1.1.2 protobuf-3.19.6 tensorboard-2.10.1 tensorboard-data-server-0.6.1 tensorboard-plugin-wit-1.8.1 tensorflow-2.10.1 tensorflow-estimator-2.10.0 tokenizers-0.13.3 transformers-4.30.2\n"
          ]
        },
        {
          "data": {
            "application/vnd.colab-display-data+json": {
              "id": "da4794749ebf404caf644f53b7d49fa4",
              "pip_warning": {
                "packages": [
                  "google"
                ]
              }
            }
          },
          "metadata": {},
          "output_type": "display_data"
        }
      ],
      "source": [
        "!pip install tensorflow==2.10.1 transformers==4.30.2"
      ]
    },
    {
      "cell_type": "code",
      "execution_count": null,
      "metadata": {
        "cell_id": "09acbf873fcc4a6ea8de2cfbaf46ceb2",
        "colab": {
          "base_uri": "https://localhost:8080/"
        },
        "deepnote_cell_type": "code",
        "id": "8kxlsvhcDXQn",
        "outputId": "52c8b9b7-ec04-45ca-94f3-2d03ad93ce9a"
      },
      "outputs": [
        {
          "name": "stdout",
          "output_type": "stream",
          "text": [
            "Collecting seqeval\n",
            "  Downloading seqeval-1.2.2.tar.gz (43 kB)\n",
            "\u001b[?25l     \u001b[90m━━━━━━━━━━━━━━━━━━━━━━━━━━━━━━━━━━━━━━━━\u001b[0m \u001b[32m0.0/43.6 kB\u001b[0m \u001b[31m?\u001b[0m eta \u001b[36m-:--:--\u001b[0m\r\u001b[2K     \u001b[90m━━━━━━━━━━━━━━━━━━━━━━━━━━━━━━━━━━━━━━━━\u001b[0m \u001b[32m43.6/43.6 kB\u001b[0m \u001b[31m3.3 MB/s\u001b[0m eta \u001b[36m0:00:00\u001b[0m\n",
            "\u001b[?25h  Preparing metadata (setup.py) ... \u001b[?25l\u001b[?25hdone\n",
            "Requirement already satisfied: numpy>=1.14.0 in /usr/local/lib/python3.10/dist-packages (from seqeval) (1.26.4)\n",
            "Requirement already satisfied: scikit-learn>=0.21.3 in /usr/local/lib/python3.10/dist-packages (from seqeval) (1.5.2)\n",
            "Requirement already satisfied: scipy>=1.6.0 in /usr/local/lib/python3.10/dist-packages (from scikit-learn>=0.21.3->seqeval) (1.13.1)\n",
            "Requirement already satisfied: joblib>=1.2.0 in /usr/local/lib/python3.10/dist-packages (from scikit-learn>=0.21.3->seqeval) (1.4.2)\n",
            "Requirement already satisfied: threadpoolctl>=3.1.0 in /usr/local/lib/python3.10/dist-packages (from scikit-learn>=0.21.3->seqeval) (3.5.0)\n",
            "Building wheels for collected packages: seqeval\n",
            "  Building wheel for seqeval (setup.py) ... \u001b[?25l\u001b[?25hdone\n",
            "  Created wheel for seqeval: filename=seqeval-1.2.2-py3-none-any.whl size=16161 sha256=2d2ffb3878690e5bc06a0f04b03b57906340eb8a39882e5505167b1dd99aaf36\n",
            "  Stored in directory: /root/.cache/pip/wheels/1a/67/4a/ad4082dd7dfc30f2abfe4d80a2ed5926a506eb8a972b4767fa\n",
            "Successfully built seqeval\n",
            "Installing collected packages: seqeval\n",
            "Successfully installed seqeval-1.2.2\n"
          ]
        }
      ],
      "source": [
        "!pip install seqeval"
      ]
    },
    {
      "cell_type": "code",
      "execution_count": null,
      "metadata": {
        "cell_id": "022c7c4f8a5c42c7b98c7f57ce7d3271",
        "deepnote_cell_type": "code",
        "execution_context_id": "e375f846-efe8-487e-8f29-2fb993111e4a",
        "execution_millis": 3670,
        "execution_start": 1732023306389,
        "id": "XD_FpqbOhWg2",
        "source_hash": "22bc66f0"
      },
      "outputs": [],
      "source": [
        "import numpy as np\n",
        "import pandas as pd\n",
        "import matplotlib.pyplot as plt\n",
        "import transformers\n",
        "from transformers import AutoTokenizer, TFAutoModelForTokenClassification\n",
        "from sklearn.model_selection import train_test_split\n",
        "from sklearn.preprocessing import LabelEncoder\n",
        "import tensorflow as tf\n",
        "from sklearn.metrics import classification_report"
      ]
    },
    {
      "cell_type": "markdown",
      "source": [
        "## Read Data"
      ],
      "metadata": {
        "id": "YMY9fG5FeOUM"
      }
    },
    {
      "cell_type": "code",
      "execution_count": null,
      "metadata": {
        "cell_id": "49ab2661840a497e830ada49e3f12414",
        "deepnote_cell_type": "code",
        "execution_context_id": "e375f846-efe8-487e-8f29-2fb993111e4a",
        "execution_millis": 389,
        "execution_start": 1732023310118,
        "id": "HodvwmxbhWg2",
        "source_hash": "8937c0ff"
      },
      "outputs": [],
      "source": [
        "pd.set_option('display.max_colwidth', None)\n",
        "threat_train = pd.read_csv('../data/cyber-threat-intelligence-splited_train.csv')\n",
        "threat_validate = pd.read_csv('../data/cyber-threat-intelligence-splited_validate.csv')\n",
        "threat_test = pd.read_csv('../data/cyber-threat-intelligence-splited_test.csv')\n",
        "\n",
        "# Add id column\n",
        "threat_train.columns = ['id'] + list(threat_train.columns[1:])\n",
        "threat_validate.columns = ['id'] + list(threat_validate.columns[1:])\n",
        "threat_test.columns = ['id'] + list(threat_test.columns[1:])"
      ]
    },
    {
      "cell_type": "code",
      "execution_count": null,
      "metadata": {
        "cell_id": "c45906ad60894b54afa6229292d5b352",
        "colab": {
          "base_uri": "https://localhost:8080/",
          "height": 483
        },
        "deepnote_cell_type": "code",
        "execution_context_id": "e375f846-efe8-487e-8f29-2fb993111e4a",
        "execution_millis": 23,
        "execution_start": 1732023310558,
        "id": "yfFB7N4ehWg2",
        "outputId": "89098796-8697-4c84-8214-5ca472dc9e84",
        "source_hash": "d91724b6"
      },
      "outputs": [
        {
          "data": {
            "application/vnd.google.colaboratory.intrinsic+json": {
              "summary": "{\n  \"name\": \"threat_train\",\n  \"rows\": 6812,\n  \"fields\": [\n    {\n      \"column\": \"id\",\n      \"properties\": {\n        \"dtype\": \"number\",\n        \"std\": 1966,\n        \"min\": 0,\n        \"max\": 6811,\n        \"num_unique_values\": 6812,\n        \"samples\": [\n          4110,\n          2941,\n          1370\n        ],\n        \"semantic_type\": \"\",\n        \"description\": \"\"\n      }\n    },\n    {\n      \"column\": \"index\",\n      \"properties\": {\n        \"dtype\": \"number\",\n        \"std\": 4346,\n        \"min\": 1,\n        \"max\": 14421,\n        \"num_unique_values\": 6812,\n        \"samples\": [\n          1461,\n          12686,\n          13516\n        ],\n        \"semantic_type\": \"\",\n        \"description\": \"\"\n      }\n    },\n    {\n      \"column\": \"text\",\n      \"properties\": {\n        \"dtype\": \"string\",\n        \"num_unique_values\": 5907,\n        \"samples\": [\n          \"The Malware that Usually Installs Ransomware and You Need to Remove Right Away\",\n          \"If a malicious app were to utilize this new vulnerability, our researchers have found it could carry out an overlay attack simply by being installed on the device.\",\n          \"Reused codes from open-source Lilith RAT     In order to launch this RAT, the threat actors use a technique called \\\"Phantom DLL hijacking.\\\"\"\n        ],\n        \"semantic_type\": \"\",\n        \"description\": \"\"\n      }\n    },\n    {\n      \"column\": \"entities\",\n      \"properties\": {\n        \"dtype\": \"category\",\n        \"num_unique_values\": 3353,\n        \"samples\": [\n          \"[{'id': 17310, 'label': 'location', 'start_offset': 38, 'end_offset': 41}, {'id': 17312, 'label': 'location', 'start_offset': 123, 'end_offset': 127}, {'id': 17313, 'label': 'location', 'start_offset': 133, 'end_offset': 136}, {'id': 17314, 'label': 'location', 'start_offset': 142, 'end_offset': 146}, {'id': 17315, 'label': 'TIME', 'start_offset': 177, 'end_offset': 187}]\",\n          \"[{'id': 38318, 'label': 'attack-pattern', 'start_offset': 34, 'end_offset': 42}, {'id': 38320, 'label': 'location', 'start_offset': 113, 'end_offset': 116}, {'id': 38323, 'label': 'location', 'start_offset': 144, 'end_offset': 147}]\",\n          \"[{'id': 41617, 'label': 'location', 'start_offset': 93, 'end_offset': 99}, {'id': 41618, 'label': 'tools', 'start_offset': 125, 'end_offset': 129}]\"\n        ],\n        \"semantic_type\": \"\",\n        \"description\": \"\"\n      }\n    },\n    {\n      \"column\": \"relations\",\n      \"properties\": {\n        \"dtype\": \"category\",\n        \"num_unique_values\": 351,\n        \"samples\": [\n          \"[{'id': 361, 'from_id': 47804, 'to_id': 47806, 'type': 'variant-of'}, {'id': 363, 'from_id': 47807, 'to_id': 47806, 'type': 'duplicate-of'}]\",\n          \"[{'id': 783, 'from_id': 49322, 'to_id': 49323, 'type': 'uses'}]\",\n          \"[{'id': 402, 'from_id': 48304, 'to_id': 48305, 'type': 'uses'}]\"\n        ],\n        \"semantic_type\": \"\",\n        \"description\": \"\"\n      }\n    },\n    {\n      \"column\": \"Comments\",\n      \"properties\": {\n        \"dtype\": \"category\",\n        \"num_unique_values\": 3,\n        \"samples\": [\n          \"[]\",\n          \"[{'id': 2, 'comment': 'Schau mal bitte dr\\u00fcber'}]\",\n          \"[{'id': 1, 'comment': 'exclude'}]\"\n        ],\n        \"semantic_type\": \"\",\n        \"description\": \"\"\n      }\n    },\n    {\n      \"column\": \"id\",\n      \"properties\": {\n        \"dtype\": \"number\",\n        \"std\": 13378.325684180552,\n        \"min\": 31.0,\n        \"max\": 51804.0,\n        \"num_unique_values\": 3352,\n        \"samples\": [\n          17310.0,\n          49358.0,\n          41617.0\n        ],\n        \"semantic_type\": \"\",\n        \"description\": \"\"\n      }\n    },\n    {\n      \"column\": \"label\",\n      \"properties\": {\n        \"dtype\": \"category\",\n        \"num_unique_values\": 20,\n        \"samples\": [\n          \"malware\",\n          \"REGISTRYKEY\",\n          \"Infrastucture\"\n        ],\n        \"semantic_type\": \"\",\n        \"description\": \"\"\n      }\n    },\n    {\n      \"column\": \"start_offset\",\n      \"properties\": {\n        \"dtype\": \"number\",\n        \"std\": 53.99532859601986,\n        \"min\": 0.0,\n        \"max\": 669.0,\n        \"num_unique_values\": 240,\n        \"samples\": [\n          14.0,\n          3.0,\n          241.0\n        ],\n        \"semantic_type\": \"\",\n        \"description\": \"\"\n      }\n    },\n    {\n      \"column\": \"end_offset\",\n      \"properties\": {\n        \"dtype\": \"number\",\n        \"std\": 56.397540855181106,\n        \"min\": 2.0,\n        \"max\": 715.0,\n        \"num_unique_values\": 251,\n        \"samples\": [\n          103.0,\n          7.0,\n          111.0\n        ],\n        \"semantic_type\": \"\",\n        \"description\": \"\"\n      }\n    }\n  ]\n}",
              "type": "dataframe",
              "variable_name": "threat_train"
            },
            "text/html": [
              "\n",
              "  <div id=\"df-f7a21c6f-c7ed-4e01-ad62-02a72169c1b9\" class=\"colab-df-container\">\n",
              "    <div>\n",
              "<style scoped>\n",
              "    .dataframe tbody tr th:only-of-type {\n",
              "        vertical-align: middle;\n",
              "    }\n",
              "\n",
              "    .dataframe tbody tr th {\n",
              "        vertical-align: top;\n",
              "    }\n",
              "\n",
              "    .dataframe thead th {\n",
              "        text-align: right;\n",
              "    }\n",
              "</style>\n",
              "<table border=\"1\" class=\"dataframe\">\n",
              "  <thead>\n",
              "    <tr style=\"text-align: right;\">\n",
              "      <th></th>\n",
              "      <th>id</th>\n",
              "      <th>index</th>\n",
              "      <th>text</th>\n",
              "      <th>entities</th>\n",
              "      <th>relations</th>\n",
              "      <th>Comments</th>\n",
              "      <th>id</th>\n",
              "      <th>label</th>\n",
              "      <th>start_offset</th>\n",
              "      <th>end_offset</th>\n",
              "    </tr>\n",
              "  </thead>\n",
              "  <tbody>\n",
              "    <tr>\n",
              "      <th>0</th>\n",
              "      <td>0</td>\n",
              "      <td>11709</td>\n",
              "      <td>Malicious version of My First APP, which adds Metasploit     SideWinder has used malicious apps as part of its operation before.</td>\n",
              "      <td>[{'id': 36090, 'label': 'malware', 'start_offset': 46, 'end_offset': 56}, {'id': 36091, 'label': 'threat-actor', 'start_offset': 61, 'end_offset': 71}]</td>\n",
              "      <td>[]</td>\n",
              "      <td>[]</td>\n",
              "      <td>36090.0</td>\n",
              "      <td>malware</td>\n",
              "      <td>46.0</td>\n",
              "      <td>56.0</td>\n",
              "    </tr>\n",
              "    <tr>\n",
              "      <th>1</th>\n",
              "      <td>1</td>\n",
              "      <td>4382</td>\n",
              "      <td>HYPERSCRAPE demonstrates Charming Kitten’s commitment to developing and maintaining purpose-built capabilities.</td>\n",
              "      <td>[{'id': 13145, 'label': 'threat-actor', 'start_offset': 25, 'end_offset': 40}, {'id': 50195, 'label': 'malware', 'start_offset': 0, 'end_offset': 11}]</td>\n",
              "      <td>[]</td>\n",
              "      <td>[]</td>\n",
              "      <td>13145.0</td>\n",
              "      <td>threat-actor</td>\n",
              "      <td>25.0</td>\n",
              "      <td>40.0</td>\n",
              "    </tr>\n",
              "    <tr>\n",
              "      <th>2</th>\n",
              "      <td>2</td>\n",
              "      <td>12581</td>\n",
              "      <td>This looked similar to an earlier in-the-wild iOS vulnerability analyzed by Ian Beer of Google Project Zero.</td>\n",
              "      <td>[]</td>\n",
              "      <td>[]</td>\n",
              "      <td>[]</td>\n",
              "      <td>NaN</td>\n",
              "      <td>NaN</td>\n",
              "      <td>NaN</td>\n",
              "      <td>NaN</td>\n",
              "    </tr>\n",
              "    <tr>\n",
              "      <th>3</th>\n",
              "      <td>3</td>\n",
              "      <td>11292</td>\n",
              "      <td>We need to request that a download link be generated for the collected files with the “trendmicro-visionone-download-information-for-collected-forensic-file”.</td>\n",
              "      <td>[]</td>\n",
              "      <td>[]</td>\n",
              "      <td>[]</td>\n",
              "      <td>NaN</td>\n",
              "      <td>NaN</td>\n",
              "      <td>NaN</td>\n",
              "      <td>NaN</td>\n",
              "    </tr>\n",
              "    <tr>\n",
              "      <th>4</th>\n",
              "      <td>4</td>\n",
              "      <td>13494</td>\n",
              "      <td>Some malicious actors, such as ransomware operators, earn directly from their cyberattacks.</td>\n",
              "      <td>[]</td>\n",
              "      <td>[]</td>\n",
              "      <td>[]</td>\n",
              "      <td>NaN</td>\n",
              "      <td>NaN</td>\n",
              "      <td>NaN</td>\n",
              "      <td>NaN</td>\n",
              "    </tr>\n",
              "  </tbody>\n",
              "</table>\n",
              "</div>\n",
              "    <div class=\"colab-df-buttons\">\n",
              "\n",
              "  <div class=\"colab-df-container\">\n",
              "    <button class=\"colab-df-convert\" onclick=\"convertToInteractive('df-f7a21c6f-c7ed-4e01-ad62-02a72169c1b9')\"\n",
              "            title=\"Convert this dataframe to an interactive table.\"\n",
              "            style=\"display:none;\">\n",
              "\n",
              "  <svg xmlns=\"http://www.w3.org/2000/svg\" height=\"24px\" viewBox=\"0 -960 960 960\">\n",
              "    <path d=\"M120-120v-720h720v720H120Zm60-500h600v-160H180v160Zm220 220h160v-160H400v160Zm0 220h160v-160H400v160ZM180-400h160v-160H180v160Zm440 0h160v-160H620v160ZM180-180h160v-160H180v160Zm440 0h160v-160H620v160Z\"/>\n",
              "  </svg>\n",
              "    </button>\n",
              "\n",
              "  <style>\n",
              "    .colab-df-container {\n",
              "      display:flex;\n",
              "      gap: 12px;\n",
              "    }\n",
              "\n",
              "    .colab-df-convert {\n",
              "      background-color: #E8F0FE;\n",
              "      border: none;\n",
              "      border-radius: 50%;\n",
              "      cursor: pointer;\n",
              "      display: none;\n",
              "      fill: #1967D2;\n",
              "      height: 32px;\n",
              "      padding: 0 0 0 0;\n",
              "      width: 32px;\n",
              "    }\n",
              "\n",
              "    .colab-df-convert:hover {\n",
              "      background-color: #E2EBFA;\n",
              "      box-shadow: 0px 1px 2px rgba(60, 64, 67, 0.3), 0px 1px 3px 1px rgba(60, 64, 67, 0.15);\n",
              "      fill: #174EA6;\n",
              "    }\n",
              "\n",
              "    .colab-df-buttons div {\n",
              "      margin-bottom: 4px;\n",
              "    }\n",
              "\n",
              "    [theme=dark] .colab-df-convert {\n",
              "      background-color: #3B4455;\n",
              "      fill: #D2E3FC;\n",
              "    }\n",
              "\n",
              "    [theme=dark] .colab-df-convert:hover {\n",
              "      background-color: #434B5C;\n",
              "      box-shadow: 0px 1px 3px 1px rgba(0, 0, 0, 0.15);\n",
              "      filter: drop-shadow(0px 1px 2px rgba(0, 0, 0, 0.3));\n",
              "      fill: #FFFFFF;\n",
              "    }\n",
              "  </style>\n",
              "\n",
              "    <script>\n",
              "      const buttonEl =\n",
              "        document.querySelector('#df-f7a21c6f-c7ed-4e01-ad62-02a72169c1b9 button.colab-df-convert');\n",
              "      buttonEl.style.display =\n",
              "        google.colab.kernel.accessAllowed ? 'block' : 'none';\n",
              "\n",
              "      async function convertToInteractive(key) {\n",
              "        const element = document.querySelector('#df-f7a21c6f-c7ed-4e01-ad62-02a72169c1b9');\n",
              "        const dataTable =\n",
              "          await google.colab.kernel.invokeFunction('convertToInteractive',\n",
              "                                                    [key], {});\n",
              "        if (!dataTable) return;\n",
              "\n",
              "        const docLinkHtml = 'Like what you see? Visit the ' +\n",
              "          '<a target=\"_blank\" href=https://colab.research.google.com/notebooks/data_table.ipynb>data table notebook</a>'\n",
              "          + ' to learn more about interactive tables.';\n",
              "        element.innerHTML = '';\n",
              "        dataTable['output_type'] = 'display_data';\n",
              "        await google.colab.output.renderOutput(dataTable, element);\n",
              "        const docLink = document.createElement('div');\n",
              "        docLink.innerHTML = docLinkHtml;\n",
              "        element.appendChild(docLink);\n",
              "      }\n",
              "    </script>\n",
              "  </div>\n",
              "\n",
              "\n",
              "<div id=\"df-d387fb86-e3b5-49e5-99ad-69a16c392c85\">\n",
              "  <button class=\"colab-df-quickchart\" onclick=\"quickchart('df-d387fb86-e3b5-49e5-99ad-69a16c392c85')\"\n",
              "            title=\"Suggest charts\"\n",
              "            style=\"display:none;\">\n",
              "\n",
              "<svg xmlns=\"http://www.w3.org/2000/svg\" height=\"24px\"viewBox=\"0 0 24 24\"\n",
              "     width=\"24px\">\n",
              "    <g>\n",
              "        <path d=\"M19 3H5c-1.1 0-2 .9-2 2v14c0 1.1.9 2 2 2h14c1.1 0 2-.9 2-2V5c0-1.1-.9-2-2-2zM9 17H7v-7h2v7zm4 0h-2V7h2v10zm4 0h-2v-4h2v4z\"/>\n",
              "    </g>\n",
              "</svg>\n",
              "  </button>\n",
              "\n",
              "<style>\n",
              "  .colab-df-quickchart {\n",
              "      --bg-color: #E8F0FE;\n",
              "      --fill-color: #1967D2;\n",
              "      --hover-bg-color: #E2EBFA;\n",
              "      --hover-fill-color: #174EA6;\n",
              "      --disabled-fill-color: #AAA;\n",
              "      --disabled-bg-color: #DDD;\n",
              "  }\n",
              "\n",
              "  [theme=dark] .colab-df-quickchart {\n",
              "      --bg-color: #3B4455;\n",
              "      --fill-color: #D2E3FC;\n",
              "      --hover-bg-color: #434B5C;\n",
              "      --hover-fill-color: #FFFFFF;\n",
              "      --disabled-bg-color: #3B4455;\n",
              "      --disabled-fill-color: #666;\n",
              "  }\n",
              "\n",
              "  .colab-df-quickchart {\n",
              "    background-color: var(--bg-color);\n",
              "    border: none;\n",
              "    border-radius: 50%;\n",
              "    cursor: pointer;\n",
              "    display: none;\n",
              "    fill: var(--fill-color);\n",
              "    height: 32px;\n",
              "    padding: 0;\n",
              "    width: 32px;\n",
              "  }\n",
              "\n",
              "  .colab-df-quickchart:hover {\n",
              "    background-color: var(--hover-bg-color);\n",
              "    box-shadow: 0 1px 2px rgba(60, 64, 67, 0.3), 0 1px 3px 1px rgba(60, 64, 67, 0.15);\n",
              "    fill: var(--button-hover-fill-color);\n",
              "  }\n",
              "\n",
              "  .colab-df-quickchart-complete:disabled,\n",
              "  .colab-df-quickchart-complete:disabled:hover {\n",
              "    background-color: var(--disabled-bg-color);\n",
              "    fill: var(--disabled-fill-color);\n",
              "    box-shadow: none;\n",
              "  }\n",
              "\n",
              "  .colab-df-spinner {\n",
              "    border: 2px solid var(--fill-color);\n",
              "    border-color: transparent;\n",
              "    border-bottom-color: var(--fill-color);\n",
              "    animation:\n",
              "      spin 1s steps(1) infinite;\n",
              "  }\n",
              "\n",
              "  @keyframes spin {\n",
              "    0% {\n",
              "      border-color: transparent;\n",
              "      border-bottom-color: var(--fill-color);\n",
              "      border-left-color: var(--fill-color);\n",
              "    }\n",
              "    20% {\n",
              "      border-color: transparent;\n",
              "      border-left-color: var(--fill-color);\n",
              "      border-top-color: var(--fill-color);\n",
              "    }\n",
              "    30% {\n",
              "      border-color: transparent;\n",
              "      border-left-color: var(--fill-color);\n",
              "      border-top-color: var(--fill-color);\n",
              "      border-right-color: var(--fill-color);\n",
              "    }\n",
              "    40% {\n",
              "      border-color: transparent;\n",
              "      border-right-color: var(--fill-color);\n",
              "      border-top-color: var(--fill-color);\n",
              "    }\n",
              "    60% {\n",
              "      border-color: transparent;\n",
              "      border-right-color: var(--fill-color);\n",
              "    }\n",
              "    80% {\n",
              "      border-color: transparent;\n",
              "      border-right-color: var(--fill-color);\n",
              "      border-bottom-color: var(--fill-color);\n",
              "    }\n",
              "    90% {\n",
              "      border-color: transparent;\n",
              "      border-bottom-color: var(--fill-color);\n",
              "    }\n",
              "  }\n",
              "</style>\n",
              "\n",
              "  <script>\n",
              "    async function quickchart(key) {\n",
              "      const quickchartButtonEl =\n",
              "        document.querySelector('#' + key + ' button');\n",
              "      quickchartButtonEl.disabled = true;  // To prevent multiple clicks.\n",
              "      quickchartButtonEl.classList.add('colab-df-spinner');\n",
              "      try {\n",
              "        const charts = await google.colab.kernel.invokeFunction(\n",
              "            'suggestCharts', [key], {});\n",
              "      } catch (error) {\n",
              "        console.error('Error during call to suggestCharts:', error);\n",
              "      }\n",
              "      quickchartButtonEl.classList.remove('colab-df-spinner');\n",
              "      quickchartButtonEl.classList.add('colab-df-quickchart-complete');\n",
              "    }\n",
              "    (() => {\n",
              "      let quickchartButtonEl =\n",
              "        document.querySelector('#df-d387fb86-e3b5-49e5-99ad-69a16c392c85 button');\n",
              "      quickchartButtonEl.style.display =\n",
              "        google.colab.kernel.accessAllowed ? 'block' : 'none';\n",
              "    })();\n",
              "  </script>\n",
              "</div>\n",
              "\n",
              "    </div>\n",
              "  </div>\n"
            ],
            "text/plain": [
              "   id  index  \\\n",
              "0   0  11709   \n",
              "1   1   4382   \n",
              "2   2  12581   \n",
              "3   3  11292   \n",
              "4   4  13494   \n",
              "\n",
              "                                                                                                                                                             text  \\\n",
              "0                                Malicious version of My First APP, which adds Metasploit     SideWinder has used malicious apps as part of its operation before.   \n",
              "1                                                 HYPERSCRAPE demonstrates Charming Kitten’s commitment to developing and maintaining purpose-built capabilities.   \n",
              "2                                                    This looked similar to an earlier in-the-wild iOS vulnerability analyzed by Ian Beer of Google Project Zero.   \n",
              "3  We need to request that a download link be generated for the collected files with the “trendmicro-visionone-download-information-for-collected-forensic-file”.   \n",
              "4                                                                     Some malicious actors, such as ransomware operators, earn directly from their cyberattacks.   \n",
              "\n",
              "                                                                                                                                                  entities  \\\n",
              "0  [{'id': 36090, 'label': 'malware', 'start_offset': 46, 'end_offset': 56}, {'id': 36091, 'label': 'threat-actor', 'start_offset': 61, 'end_offset': 71}]   \n",
              "1   [{'id': 13145, 'label': 'threat-actor', 'start_offset': 25, 'end_offset': 40}, {'id': 50195, 'label': 'malware', 'start_offset': 0, 'end_offset': 11}]   \n",
              "2                                                                                                                                                       []   \n",
              "3                                                                                                                                                       []   \n",
              "4                                                                                                                                                       []   \n",
              "\n",
              "  relations Comments       id         label  start_offset  end_offset  \n",
              "0        []       []  36090.0       malware          46.0        56.0  \n",
              "1        []       []  13145.0  threat-actor          25.0        40.0  \n",
              "2        []       []      NaN           NaN           NaN         NaN  \n",
              "3        []       []      NaN           NaN           NaN         NaN  \n",
              "4        []       []      NaN           NaN           NaN         NaN  "
            ]
          },
          "execution_count": 5,
          "metadata": {},
          "output_type": "execute_result"
        }
      ],
      "source": [
        "threat_train.head()"
      ]
    },
    {
      "cell_type": "markdown",
      "metadata": {
        "cell_id": "57517906cf3b47409610b5008e2c0b30",
        "deepnote_app_block_visible": false,
        "deepnote_cell_type": "text-cell-h2",
        "formattedRanges": [],
        "is_collapsed": false,
        "id": "agNWs62xeBON"
      },
      "source": [
        "## Combine All Non-Empty Entities Rows from Dataset"
      ]
    },
    {
      "cell_type": "code",
      "execution_count": null,
      "metadata": {
        "cell_id": "95a39bde44114545ad0b4a533fb8bdce",
        "deepnote_cell_type": "code",
        "execution_context_id": "e375f846-efe8-487e-8f29-2fb993111e4a",
        "execution_millis": 1,
        "execution_start": 1732023310629,
        "id": "aHAyRA1_hWg2",
        "source_hash": "2999eac1"
      },
      "outputs": [],
      "source": [
        "filtered_train = threat_train[threat_train['label'].notna()]\n",
        "filtered_validate = threat_validate[threat_validate['label'].notna()]\n",
        "filtered_test = threat_test[threat_test['label'].notna()]\n",
        "\n",
        "combined_df = pd.concat([filtered_train, filtered_validate, filtered_test], ignore_index=True)\n",
        "combined_df.rename(columns={'label':'entity'}, inplace=True)"
      ]
    },
    {
      "cell_type": "code",
      "execution_count": null,
      "metadata": {
        "cell_id": "b90e6600e0a645c5b5aec194656ed6a3",
        "colab": {
          "base_uri": "https://localhost:8080/",
          "height": 587
        },
        "deepnote_cell_type": "code",
        "execution_context_id": "e375f846-efe8-487e-8f29-2fb993111e4a",
        "execution_millis": 1,
        "execution_start": 1732023310710,
        "id": "QmZ8RVF9hWg3",
        "outputId": "fadd8e9d-b839-4d41-8185-38a900648e90",
        "source_hash": "c530eb97"
      },
      "outputs": [
        {
          "data": {
            "application/vnd.google.colaboratory.intrinsic+json": {
              "summary": "{\n  \"name\": \"combined_df\",\n  \"rows\": 4731,\n  \"fields\": [\n    {\n      \"column\": \"id\",\n      \"properties\": {\n        \"dtype\": \"number\",\n        \"std\": 2060,\n        \"min\": 0,\n        \"max\": 6811,\n        \"num_unique_values\": 3884,\n        \"samples\": [\n          2639,\n          5380,\n          1058\n        ],\n        \"semantic_type\": \"\",\n        \"description\": \"\"\n      }\n    },\n    {\n      \"column\": \"index\",\n      \"properties\": {\n        \"dtype\": \"number\",\n        \"std\": 4263,\n        \"min\": 1,\n        \"max\": 14420,\n        \"num_unique_values\": 4731,\n        \"samples\": [\n          2742,\n          3908,\n          3774\n        ],\n        \"semantic_type\": \"\",\n        \"description\": \"\"\n      }\n    },\n    {\n      \"column\": \"text\",\n      \"properties\": {\n        \"dtype\": \"string\",\n        \"num_unique_values\": 4189,\n        \"samples\": [\n          \"We also got to observe how the domain \\u0444\\u0441\\u0431[.]com used to look in October 2020 \\u2013 a blog of sorts titled \\u201cGhost in the Wire.\\u201d\",\n          \"Trend Micro\\u2122 Email Security is a no-maintenance cloud solution that delivers continuously updated protection to stop spam, malware, spear phishing, ransomware, and advanced targeted attacks before they reach the network.  Trend Micro\\u2122 Email Inspector and InterScan\\u2122 Web Security prevent malware from ever reaching end users.\",\n          \" Point of Entry  Spear-phishing emails containing decoy documents Malicious shortcut (LNK) files and PowerShell Self-extracting archive (SFX) Runtime packers    Spear-phishing emails containing decoy documents exploiting CVE-2017-8759    Spear-phishing emails containing decoy documents exploiting  CVE-2017-11882, DDEAUTO, Microsoft Office Frameset and Link auto update   Notable Tools  Hacking Tools Second-stage payloads    Koadic Hacking Tools Second-stage payloads    Koadic Hacking Tools Second-stage payloads   Backdoor  ChChes    ANEL    ANEL     Technical Analysis  Figure 1.\"\n        ],\n        \"semantic_type\": \"\",\n        \"description\": \"\"\n      }\n    },\n    {\n      \"column\": \"entities\",\n      \"properties\": {\n        \"dtype\": \"string\",\n        \"num_unique_values\": 4731,\n        \"samples\": [\n          \"[{'id': 45681, 'label': 'vulnerability', 'start_offset': 82, 'end_offset': 92}, {'id': 45682, 'label': 'vulnerability', 'start_offset': 136, 'end_offset': 146}]\",\n          \"[{'id': 49757, 'label': 'attack-pattern', 'start_offset': 26, 'end_offset': 36}]\",\n          \"[{'id': 49607, 'label': 'SOFTWARE', 'start_offset': 1, 'end_offset': 14}, {'id': 49608, 'label': 'SOFTWARE', 'start_offset': 54, 'end_offset': 81}]\"\n        ],\n        \"semantic_type\": \"\",\n        \"description\": \"\"\n      }\n    },\n    {\n      \"column\": \"relations\",\n      \"properties\": {\n        \"dtype\": \"category\",\n        \"num_unique_values\": 481,\n        \"samples\": [\n          \"[{'id': 333, 'from_id': 47474, 'to_id': 47475, 'type': 'has'}]\",\n          \"[{'id': 446, 'from_id': 48565, 'to_id': 48566, 'type': 'beacons-to'}, {'id': 447, 'from_id': 48565, 'to_id': 48568, 'type': 'beacons-to'}]\",\n          \"[{'id': 1136, 'from_id': 51696, 'to_id': 51697, 'type': 'related-to'}, {'id': 1137, 'from_id': 51697, 'to_id': 51698, 'type': 'related-to'}]\"\n        ],\n        \"semantic_type\": \"\",\n        \"description\": \"\"\n      }\n    },\n    {\n      \"column\": \"Comments\",\n      \"properties\": {\n        \"dtype\": \"category\",\n        \"num_unique_values\": 3,\n        \"samples\": [\n          \"[]\",\n          \"[{'id': 2, 'comment': 'Schau mal bitte dr\\u00fcber'}]\",\n          \"[{'id': 1, 'comment': 'exclude'}]\"\n        ],\n        \"semantic_type\": \"\",\n        \"description\": \"\"\n      }\n    },\n    {\n      \"column\": \"id\",\n      \"properties\": {\n        \"dtype\": \"number\",\n        \"std\": 13264.37374353679,\n        \"min\": 22.0,\n        \"max\": 51804.0,\n        \"num_unique_values\": 4731,\n        \"samples\": [\n          45681.0,\n          49757.0,\n          49607.0\n        ],\n        \"semantic_type\": \"\",\n        \"description\": \"\"\n      }\n    },\n    {\n      \"column\": \"entity\",\n      \"properties\": {\n        \"dtype\": \"category\",\n        \"num_unique_values\": 20,\n        \"samples\": [\n          \"malware\",\n          \"REGISTRYKEY\",\n          \"Infrastucture\"\n        ],\n        \"semantic_type\": \"\",\n        \"description\": \"\"\n      }\n    },\n    {\n      \"column\": \"start_offset\",\n      \"properties\": {\n        \"dtype\": \"number\",\n        \"std\": 53.377229195128734,\n        \"min\": 0.0,\n        \"max\": 669.0,\n        \"num_unique_values\": 259,\n        \"samples\": [\n          79.0,\n          126.0,\n          11.0\n        ],\n        \"semantic_type\": \"\",\n        \"description\": \"\"\n      }\n    },\n    {\n      \"column\": \"end_offset\",\n      \"properties\": {\n        \"dtype\": \"number\",\n        \"std\": 55.61430132624933,\n        \"min\": 2.0,\n        \"max\": 715.0,\n        \"num_unique_values\": 272,\n        \"samples\": [\n          29.0,\n          173.0,\n          255.0\n        ],\n        \"semantic_type\": \"\",\n        \"description\": \"\"\n      }\n    }\n  ]\n}",
              "type": "dataframe",
              "variable_name": "combined_df"
            },
            "text/html": [
              "\n",
              "  <div id=\"df-0f43c494-4421-49c3-ab1c-5628dc4c07a0\" class=\"colab-df-container\">\n",
              "    <div>\n",
              "<style scoped>\n",
              "    .dataframe tbody tr th:only-of-type {\n",
              "        vertical-align: middle;\n",
              "    }\n",
              "\n",
              "    .dataframe tbody tr th {\n",
              "        vertical-align: top;\n",
              "    }\n",
              "\n",
              "    .dataframe thead th {\n",
              "        text-align: right;\n",
              "    }\n",
              "</style>\n",
              "<table border=\"1\" class=\"dataframe\">\n",
              "  <thead>\n",
              "    <tr style=\"text-align: right;\">\n",
              "      <th></th>\n",
              "      <th>id</th>\n",
              "      <th>index</th>\n",
              "      <th>text</th>\n",
              "      <th>entities</th>\n",
              "      <th>relations</th>\n",
              "      <th>Comments</th>\n",
              "      <th>id</th>\n",
              "      <th>entity</th>\n",
              "      <th>start_offset</th>\n",
              "      <th>end_offset</th>\n",
              "    </tr>\n",
              "  </thead>\n",
              "  <tbody>\n",
              "    <tr>\n",
              "      <th>0</th>\n",
              "      <td>0</td>\n",
              "      <td>11709</td>\n",
              "      <td>Malicious version of My First APP, which adds Metasploit     SideWinder has used malicious apps as part of its operation before.</td>\n",
              "      <td>[{'id': 36090, 'label': 'malware', 'start_offset': 46, 'end_offset': 56}, {'id': 36091, 'label': 'threat-actor', 'start_offset': 61, 'end_offset': 71}]</td>\n",
              "      <td>[]</td>\n",
              "      <td>[]</td>\n",
              "      <td>36090.0</td>\n",
              "      <td>malware</td>\n",
              "      <td>46.0</td>\n",
              "      <td>56.0</td>\n",
              "    </tr>\n",
              "    <tr>\n",
              "      <th>1</th>\n",
              "      <td>1</td>\n",
              "      <td>4382</td>\n",
              "      <td>HYPERSCRAPE demonstrates Charming Kitten’s commitment to developing and maintaining purpose-built capabilities.</td>\n",
              "      <td>[{'id': 13145, 'label': 'threat-actor', 'start_offset': 25, 'end_offset': 40}, {'id': 50195, 'label': 'malware', 'start_offset': 0, 'end_offset': 11}]</td>\n",
              "      <td>[]</td>\n",
              "      <td>[]</td>\n",
              "      <td>13145.0</td>\n",
              "      <td>threat-actor</td>\n",
              "      <td>25.0</td>\n",
              "      <td>40.0</td>\n",
              "    </tr>\n",
              "    <tr>\n",
              "      <th>2</th>\n",
              "      <td>5</td>\n",
              "      <td>5386</td>\n",
              "      <td>We have evidence that the routers of at least one vendor other than Asus and WatchGuard are connecting to Cyclops Blink C&amp;Cs as well, but so far we have been unable to collect malware samples for this router brand.</td>\n",
              "      <td>[{'id': 51380, 'label': 'malware', 'start_offset': 106, 'end_offset': 119}]</td>\n",
              "      <td>[]</td>\n",
              "      <td>[]</td>\n",
              "      <td>51380.0</td>\n",
              "      <td>malware</td>\n",
              "      <td>106.0</td>\n",
              "      <td>119.0</td>\n",
              "    </tr>\n",
              "    <tr>\n",
              "      <th>3</th>\n",
              "      <td>11</td>\n",
              "      <td>4</td>\n",
              "      <td>The first known campaign was launched by Crimeware on November 2014.</td>\n",
              "      <td>[{'id': 45806, 'label': 'TIME', 'start_offset': 55, 'end_offset': 68}, {'id': 48942, 'label': 'malware', 'start_offset': 42, 'end_offset': 51}]</td>\n",
              "      <td>[]</td>\n",
              "      <td>[]</td>\n",
              "      <td>45806.0</td>\n",
              "      <td>TIME</td>\n",
              "      <td>55.0</td>\n",
              "      <td>68.0</td>\n",
              "    </tr>\n",
              "    <tr>\n",
              "      <th>4</th>\n",
              "      <td>13</td>\n",
              "      <td>13297</td>\n",
              "      <td>The TSSL project has 64-bit version.</td>\n",
              "      <td>[{'id': 41403, 'label': 'identity', 'start_offset': 24, 'end_offset': 27}]</td>\n",
              "      <td>[]</td>\n",
              "      <td>[]</td>\n",
              "      <td>41403.0</td>\n",
              "      <td>identity</td>\n",
              "      <td>24.0</td>\n",
              "      <td>27.0</td>\n",
              "    </tr>\n",
              "  </tbody>\n",
              "</table>\n",
              "</div>\n",
              "    <div class=\"colab-df-buttons\">\n",
              "\n",
              "  <div class=\"colab-df-container\">\n",
              "    <button class=\"colab-df-convert\" onclick=\"convertToInteractive('df-0f43c494-4421-49c3-ab1c-5628dc4c07a0')\"\n",
              "            title=\"Convert this dataframe to an interactive table.\"\n",
              "            style=\"display:none;\">\n",
              "\n",
              "  <svg xmlns=\"http://www.w3.org/2000/svg\" height=\"24px\" viewBox=\"0 -960 960 960\">\n",
              "    <path d=\"M120-120v-720h720v720H120Zm60-500h600v-160H180v160Zm220 220h160v-160H400v160Zm0 220h160v-160H400v160ZM180-400h160v-160H180v160Zm440 0h160v-160H620v160ZM180-180h160v-160H180v160Zm440 0h160v-160H620v160Z\"/>\n",
              "  </svg>\n",
              "    </button>\n",
              "\n",
              "  <style>\n",
              "    .colab-df-container {\n",
              "      display:flex;\n",
              "      gap: 12px;\n",
              "    }\n",
              "\n",
              "    .colab-df-convert {\n",
              "      background-color: #E8F0FE;\n",
              "      border: none;\n",
              "      border-radius: 50%;\n",
              "      cursor: pointer;\n",
              "      display: none;\n",
              "      fill: #1967D2;\n",
              "      height: 32px;\n",
              "      padding: 0 0 0 0;\n",
              "      width: 32px;\n",
              "    }\n",
              "\n",
              "    .colab-df-convert:hover {\n",
              "      background-color: #E2EBFA;\n",
              "      box-shadow: 0px 1px 2px rgba(60, 64, 67, 0.3), 0px 1px 3px 1px rgba(60, 64, 67, 0.15);\n",
              "      fill: #174EA6;\n",
              "    }\n",
              "\n",
              "    .colab-df-buttons div {\n",
              "      margin-bottom: 4px;\n",
              "    }\n",
              "\n",
              "    [theme=dark] .colab-df-convert {\n",
              "      background-color: #3B4455;\n",
              "      fill: #D2E3FC;\n",
              "    }\n",
              "\n",
              "    [theme=dark] .colab-df-convert:hover {\n",
              "      background-color: #434B5C;\n",
              "      box-shadow: 0px 1px 3px 1px rgba(0, 0, 0, 0.15);\n",
              "      filter: drop-shadow(0px 1px 2px rgba(0, 0, 0, 0.3));\n",
              "      fill: #FFFFFF;\n",
              "    }\n",
              "  </style>\n",
              "\n",
              "    <script>\n",
              "      const buttonEl =\n",
              "        document.querySelector('#df-0f43c494-4421-49c3-ab1c-5628dc4c07a0 button.colab-df-convert');\n",
              "      buttonEl.style.display =\n",
              "        google.colab.kernel.accessAllowed ? 'block' : 'none';\n",
              "\n",
              "      async function convertToInteractive(key) {\n",
              "        const element = document.querySelector('#df-0f43c494-4421-49c3-ab1c-5628dc4c07a0');\n",
              "        const dataTable =\n",
              "          await google.colab.kernel.invokeFunction('convertToInteractive',\n",
              "                                                    [key], {});\n",
              "        if (!dataTable) return;\n",
              "\n",
              "        const docLinkHtml = 'Like what you see? Visit the ' +\n",
              "          '<a target=\"_blank\" href=https://colab.research.google.com/notebooks/data_table.ipynb>data table notebook</a>'\n",
              "          + ' to learn more about interactive tables.';\n",
              "        element.innerHTML = '';\n",
              "        dataTable['output_type'] = 'display_data';\n",
              "        await google.colab.output.renderOutput(dataTable, element);\n",
              "        const docLink = document.createElement('div');\n",
              "        docLink.innerHTML = docLinkHtml;\n",
              "        element.appendChild(docLink);\n",
              "      }\n",
              "    </script>\n",
              "  </div>\n",
              "\n",
              "\n",
              "<div id=\"df-c8af87d8-8919-4080-b4f2-7fee90897f29\">\n",
              "  <button class=\"colab-df-quickchart\" onclick=\"quickchart('df-c8af87d8-8919-4080-b4f2-7fee90897f29')\"\n",
              "            title=\"Suggest charts\"\n",
              "            style=\"display:none;\">\n",
              "\n",
              "<svg xmlns=\"http://www.w3.org/2000/svg\" height=\"24px\"viewBox=\"0 0 24 24\"\n",
              "     width=\"24px\">\n",
              "    <g>\n",
              "        <path d=\"M19 3H5c-1.1 0-2 .9-2 2v14c0 1.1.9 2 2 2h14c1.1 0 2-.9 2-2V5c0-1.1-.9-2-2-2zM9 17H7v-7h2v7zm4 0h-2V7h2v10zm4 0h-2v-4h2v4z\"/>\n",
              "    </g>\n",
              "</svg>\n",
              "  </button>\n",
              "\n",
              "<style>\n",
              "  .colab-df-quickchart {\n",
              "      --bg-color: #E8F0FE;\n",
              "      --fill-color: #1967D2;\n",
              "      --hover-bg-color: #E2EBFA;\n",
              "      --hover-fill-color: #174EA6;\n",
              "      --disabled-fill-color: #AAA;\n",
              "      --disabled-bg-color: #DDD;\n",
              "  }\n",
              "\n",
              "  [theme=dark] .colab-df-quickchart {\n",
              "      --bg-color: #3B4455;\n",
              "      --fill-color: #D2E3FC;\n",
              "      --hover-bg-color: #434B5C;\n",
              "      --hover-fill-color: #FFFFFF;\n",
              "      --disabled-bg-color: #3B4455;\n",
              "      --disabled-fill-color: #666;\n",
              "  }\n",
              "\n",
              "  .colab-df-quickchart {\n",
              "    background-color: var(--bg-color);\n",
              "    border: none;\n",
              "    border-radius: 50%;\n",
              "    cursor: pointer;\n",
              "    display: none;\n",
              "    fill: var(--fill-color);\n",
              "    height: 32px;\n",
              "    padding: 0;\n",
              "    width: 32px;\n",
              "  }\n",
              "\n",
              "  .colab-df-quickchart:hover {\n",
              "    background-color: var(--hover-bg-color);\n",
              "    box-shadow: 0 1px 2px rgba(60, 64, 67, 0.3), 0 1px 3px 1px rgba(60, 64, 67, 0.15);\n",
              "    fill: var(--button-hover-fill-color);\n",
              "  }\n",
              "\n",
              "  .colab-df-quickchart-complete:disabled,\n",
              "  .colab-df-quickchart-complete:disabled:hover {\n",
              "    background-color: var(--disabled-bg-color);\n",
              "    fill: var(--disabled-fill-color);\n",
              "    box-shadow: none;\n",
              "  }\n",
              "\n",
              "  .colab-df-spinner {\n",
              "    border: 2px solid var(--fill-color);\n",
              "    border-color: transparent;\n",
              "    border-bottom-color: var(--fill-color);\n",
              "    animation:\n",
              "      spin 1s steps(1) infinite;\n",
              "  }\n",
              "\n",
              "  @keyframes spin {\n",
              "    0% {\n",
              "      border-color: transparent;\n",
              "      border-bottom-color: var(--fill-color);\n",
              "      border-left-color: var(--fill-color);\n",
              "    }\n",
              "    20% {\n",
              "      border-color: transparent;\n",
              "      border-left-color: var(--fill-color);\n",
              "      border-top-color: var(--fill-color);\n",
              "    }\n",
              "    30% {\n",
              "      border-color: transparent;\n",
              "      border-left-color: var(--fill-color);\n",
              "      border-top-color: var(--fill-color);\n",
              "      border-right-color: var(--fill-color);\n",
              "    }\n",
              "    40% {\n",
              "      border-color: transparent;\n",
              "      border-right-color: var(--fill-color);\n",
              "      border-top-color: var(--fill-color);\n",
              "    }\n",
              "    60% {\n",
              "      border-color: transparent;\n",
              "      border-right-color: var(--fill-color);\n",
              "    }\n",
              "    80% {\n",
              "      border-color: transparent;\n",
              "      border-right-color: var(--fill-color);\n",
              "      border-bottom-color: var(--fill-color);\n",
              "    }\n",
              "    90% {\n",
              "      border-color: transparent;\n",
              "      border-bottom-color: var(--fill-color);\n",
              "    }\n",
              "  }\n",
              "</style>\n",
              "\n",
              "  <script>\n",
              "    async function quickchart(key) {\n",
              "      const quickchartButtonEl =\n",
              "        document.querySelector('#' + key + ' button');\n",
              "      quickchartButtonEl.disabled = true;  // To prevent multiple clicks.\n",
              "      quickchartButtonEl.classList.add('colab-df-spinner');\n",
              "      try {\n",
              "        const charts = await google.colab.kernel.invokeFunction(\n",
              "            'suggestCharts', [key], {});\n",
              "      } catch (error) {\n",
              "        console.error('Error during call to suggestCharts:', error);\n",
              "      }\n",
              "      quickchartButtonEl.classList.remove('colab-df-spinner');\n",
              "      quickchartButtonEl.classList.add('colab-df-quickchart-complete');\n",
              "    }\n",
              "    (() => {\n",
              "      let quickchartButtonEl =\n",
              "        document.querySelector('#df-c8af87d8-8919-4080-b4f2-7fee90897f29 button');\n",
              "      quickchartButtonEl.style.display =\n",
              "        google.colab.kernel.accessAllowed ? 'block' : 'none';\n",
              "    })();\n",
              "  </script>\n",
              "</div>\n",
              "\n",
              "    </div>\n",
              "  </div>\n"
            ],
            "text/plain": [
              "   id  index  \\\n",
              "0   0  11709   \n",
              "1   1   4382   \n",
              "2   5   5386   \n",
              "3  11      4   \n",
              "4  13  13297   \n",
              "\n",
              "                                                                                                                                                                                                                     text  \\\n",
              "0                                                                                        Malicious version of My First APP, which adds Metasploit     SideWinder has used malicious apps as part of its operation before.   \n",
              "1                                                                                                         HYPERSCRAPE demonstrates Charming Kitten’s commitment to developing and maintaining purpose-built capabilities.   \n",
              "2  We have evidence that the routers of at least one vendor other than Asus and WatchGuard are connecting to Cyclops Blink C&Cs as well, but so far we have been unable to collect malware samples for this router brand.   \n",
              "3                                                                                                                                                    The first known campaign was launched by Crimeware on November 2014.   \n",
              "4                                                                                                                                                                                    The TSSL project has 64-bit version.   \n",
              "\n",
              "                                                                                                                                                  entities  \\\n",
              "0  [{'id': 36090, 'label': 'malware', 'start_offset': 46, 'end_offset': 56}, {'id': 36091, 'label': 'threat-actor', 'start_offset': 61, 'end_offset': 71}]   \n",
              "1   [{'id': 13145, 'label': 'threat-actor', 'start_offset': 25, 'end_offset': 40}, {'id': 50195, 'label': 'malware', 'start_offset': 0, 'end_offset': 11}]   \n",
              "2                                                                              [{'id': 51380, 'label': 'malware', 'start_offset': 106, 'end_offset': 119}]   \n",
              "3          [{'id': 45806, 'label': 'TIME', 'start_offset': 55, 'end_offset': 68}, {'id': 48942, 'label': 'malware', 'start_offset': 42, 'end_offset': 51}]   \n",
              "4                                                                               [{'id': 41403, 'label': 'identity', 'start_offset': 24, 'end_offset': 27}]   \n",
              "\n",
              "  relations Comments       id        entity  start_offset  end_offset  \n",
              "0        []       []  36090.0       malware          46.0        56.0  \n",
              "1        []       []  13145.0  threat-actor          25.0        40.0  \n",
              "2        []       []  51380.0       malware         106.0       119.0  \n",
              "3        []       []  45806.0          TIME          55.0        68.0  \n",
              "4        []       []  41403.0      identity          24.0        27.0  "
            ]
          },
          "execution_count": 7,
          "metadata": {},
          "output_type": "execute_result"
        }
      ],
      "source": [
        "combined_df.head()"
      ]
    },
    {
      "cell_type": "code",
      "execution_count": null,
      "metadata": {
        "cell_id": "f778c21c5c7a45079536fc432d91cfaf",
        "colab": {
          "base_uri": "https://localhost:8080/"
        },
        "deepnote_cell_type": "code",
        "execution_context_id": "e375f846-efe8-487e-8f29-2fb993111e4a",
        "execution_millis": 0,
        "execution_start": 1732023310762,
        "id": "-CaOWoCPhWg3",
        "outputId": "7d2161e4-e6c5-4eb0-a75a-9e5825e7c4da",
        "source_hash": "7abf6611"
      },
      "outputs": [
        {
          "name": "stdout",
          "output_type": "stream",
          "text": [
            "(4731, 10)\n"
          ]
        }
      ],
      "source": [
        "print(combined_df.shape)"
      ]
    },
    {
      "cell_type": "markdown",
      "metadata": {
        "cell_id": "62ff8337af5f4d41b06ca482c9b2077b",
        "deepnote_cell_type": "text-cell-h2",
        "formattedRanges": [],
        "id": "bAD3lrsahWg3"
      },
      "source": [
        "## Exploratory Data Analysis (EDA)"
      ]
    },
    {
      "cell_type": "code",
      "execution_count": null,
      "metadata": {
        "cell_id": "641025faa18c486f8a2ed3d81f67240c",
        "colab": {
          "base_uri": "https://localhost:8080/"
        },
        "deepnote_cell_type": "code",
        "execution_context_id": "e375f846-efe8-487e-8f29-2fb993111e4a",
        "execution_millis": 1,
        "execution_start": 1732023310821,
        "id": "PWnlIp9YhWg3",
        "outputId": "9ecb51a1-9d47-41ee-f2a0-68b889858368",
        "source_hash": "593db1b2"
      },
      "outputs": [
        {
          "name": "stdout",
          "output_type": "stream",
          "text": [
            "entity\n",
            "malware           885\n",
            "location          691\n",
            "SOFTWARE          602\n",
            "attack-pattern    581\n",
            "identity          564\n",
            "threat-actor      411\n",
            "TIME              229\n",
            "tools             186\n",
            "FILEPATH          149\n",
            "vulnerability     105\n",
            "SHA2               80\n",
            "URL                62\n",
            "campaign           54\n",
            "IPV4               30\n",
            "SHA1               30\n",
            "DOMAIN             25\n",
            "Infrastucture      18\n",
            "EMAIL              12\n",
            "REGISTRYKEY         9\n",
            "MD5                 8\n",
            "Name: count, dtype: int64\n"
          ]
        }
      ],
      "source": [
        "print(combined_df['entity'].value_counts())"
      ]
    },
    {
      "cell_type": "markdown",
      "metadata": {
        "cell_id": "f6cc70a023834c86a45965211c64021d",
        "deepnote_cell_type": "text-cell-p",
        "formattedRanges": [],
        "id": "AHh6LO27eBOO"
      },
      "source": [
        "Fix typo and change the dataset into lists"
      ]
    },
    {
      "cell_type": "code",
      "execution_count": null,
      "metadata": {
        "cell_id": "58d5d9aa33454c23bdc2516701ae2dcf",
        "deepnote_cell_type": "code",
        "execution_context_id": "e375f846-efe8-487e-8f29-2fb993111e4a",
        "execution_millis": 1,
        "execution_start": 1732023310873,
        "id": "fVeeKMh7hWg3",
        "source_hash": "958dc51e"
      },
      "outputs": [],
      "source": [
        "combined_df['entity'] = combined_df['entity'].replace('Infrastucture', 'Infrastructure')\n",
        "\n",
        "texts = combined_df['text'].tolist()\n",
        "entities = combined_df['entities'].tolist()\n",
        "\n"
      ]
    },
    {
      "cell_type": "markdown",
      "metadata": {
        "cell_id": "95ef8a278401458b94eb4f4c8b69e56a",
        "deepnote_cell_type": "text-cell-p",
        "formattedRanges": [],
        "id": "TtDhQYzmeBOO"
      },
      "source": [
        "Create labels from all of the entities in the dataset"
      ]
    },
    {
      "cell_type": "code",
      "execution_count": null,
      "metadata": {
        "cell_id": "df5d6628c55e46e5912a8f6f8d0f45b7",
        "deepnote_cell_type": "code",
        "id": "fzLs0AApCD7u"
      },
      "outputs": [],
      "source": [
        "import ast\n",
        "label_list = [\"O\"]\n",
        "\n",
        "for entity in entities:\n",
        "    for ent in ast.literal_eval(entity):\n",
        "        label_list.append(f\"B-{ent['label']}\")\n",
        "        label_list.append(f\"I-{ent['label']}\")\n",
        "\n",
        "label_list = list(set(label_list))\n",
        "label2id = {label: i for i, label in enumerate(label_list)}\n",
        "id2label = {i: label for label, i in label2id.items()}"
      ]
    },
    {
      "cell_type": "markdown",
      "metadata": {
        "cell_id": "16c42040918f4d23acc450bb25db34c2",
        "deepnote_cell_type": "text-cell-h2",
        "formattedRanges": [],
        "id": "2FFAd8AeeBOO"
      },
      "source": [
        "## Named Entity Recognition"
      ]
    },
    {
      "cell_type": "code",
      "execution_count": null,
      "metadata": {
        "cell_id": "854555a1ab3e45b080659984907ed0a7",
        "colab": {
          "base_uri": "https://localhost:8080/",
          "height": 304,
          "referenced_widgets": [
            "4deba47783c64a3c9d496905ea0a1ae6",
            "87106349b72b48c0b1d23ef4ae22dce2",
            "b8f15e76f6164f34999363e4f1a0323e",
            "0dbdbddcdc4e41d6bd6fa4b12bebcd61",
            "8952a069740d4a72b22a9b9135bbb85f",
            "6f7bc41167824adebbb691dd01301913",
            "0feb84b5f4f04225956c5508ae48b26a",
            "85721f1499f1499ba663b2dffa9c7723",
            "b16a04d45d024e9e9baab8b725b2eada",
            "afc00ffada0e4c88a6648b2be332c6ef",
            "95e29a257c9447f08056b78c19664acd",
            "3bd6c83f9aab4493a851e2b4051c620c",
            "84155ad275c8449fa698cd4c6ccc62f4",
            "2b3ae2553185426aa7f76815acc22b98",
            "de1ed1a4700c40fea46f578f1b481cdb",
            "5494560927b94bdf8d577a57115b3cec",
            "f0c75c41804a4989969a707918367611",
            "d2fce2c45c0943248d3aa2570d91800b",
            "87c0649740d44b969eda686e18368a12",
            "0e3d3f2dcf5f431a896eccf80e6305d9",
            "11f6073b4fdd4b8283f6d7f9fca23918",
            "7bf24e8d20594afeaf1fed739be726a6",
            "e4ad847244234e6bbc75508caf2c8e72",
            "f3c52ff9c88b497c9dcc26f57f00f63b",
            "13436b70a88646a1819bc3639cbd9a99",
            "fedd2f38af6b4bda9b6d9c08c5e7ff14",
            "c06a467cf9484b7bb28590ddadadb266",
            "0222aca6e5b540caba68d745a359b5b6",
            "13084ee437494489bff4fc1b1175cffd",
            "4200b13b5f3d456188e18bd10c2c0f67",
            "3e502dbc0b064bdabc218bc79626849e",
            "7efc80a614964696be14c8e09974de92",
            "edd9b2b0f7d64f32a977cfad7601a362",
            "5b02a25c3d3d448e93805aac297b2f2f",
            "470eaa815dc04f29859dbc015ac227c6",
            "68c1d6e9b44944af8af75bac4699bb96",
            "4762c3b997b84d4a90e843f4de1ce268",
            "5182afeca9074ce5922e2fc3c3f001da",
            "cbe5bc5ae64e453694a763b1913ea70b",
            "cb47a6ffb5674ed29de39f94948dfa79",
            "ce9f10f1c91f4d0da489d5c85d16ae7f",
            "332a6f1add474f27aef9d2b2fb676c6f",
            "aff143ed5bdb4424a3016eb787df6eb2",
            "de082889e5424f2daa1436e4a6902040"
          ]
        },
        "deepnote_cell_type": "code",
        "id": "g9kjP1Z0Coof",
        "outputId": "bbebf90d-b950-494c-a31f-f72f52db64b3"
      },
      "outputs": [
        {
          "name": "stderr",
          "output_type": "stream",
          "text": [
            "/usr/local/lib/python3.10/dist-packages/huggingface_hub/file_download.py:797: FutureWarning: `resume_download` is deprecated and will be removed in version 1.0.0. Downloads always resume when possible. If you want to force a new download, use `force_download=True`.\n",
            "  warnings.warn(\n",
            "/usr/local/lib/python3.10/dist-packages/huggingface_hub/utils/_auth.py:94: UserWarning: \n",
            "The secret `HF_TOKEN` does not exist in your Colab secrets.\n",
            "To authenticate with the Hugging Face Hub, create a token in your settings tab (https://huggingface.co/settings/tokens), set it as secret in your Google Colab and restart your session.\n",
            "You will be able to reuse this secret in all of your notebooks.\n",
            "Please note that authentication is recommended but still optional to access public models or datasets.\n",
            "  warnings.warn(\n"
          ]
        },
        {
          "data": {
            "application/vnd.jupyter.widget-view+json": {
              "model_id": "4deba47783c64a3c9d496905ea0a1ae6",
              "version_major": 2,
              "version_minor": 0
            },
            "text/plain": [
              "tokenizer_config.json:   0%|          | 0.00/48.0 [00:00<?, ?B/s]"
            ]
          },
          "metadata": {},
          "output_type": "display_data"
        },
        {
          "data": {
            "application/vnd.jupyter.widget-view+json": {
              "model_id": "3bd6c83f9aab4493a851e2b4051c620c",
              "version_major": 2,
              "version_minor": 0
            },
            "text/plain": [
              "config.json:   0%|          | 0.00/483 [00:00<?, ?B/s]"
            ]
          },
          "metadata": {},
          "output_type": "display_data"
        },
        {
          "data": {
            "application/vnd.jupyter.widget-view+json": {
              "model_id": "e4ad847244234e6bbc75508caf2c8e72",
              "version_major": 2,
              "version_minor": 0
            },
            "text/plain": [
              "vocab.txt:   0%|          | 0.00/232k [00:00<?, ?B/s]"
            ]
          },
          "metadata": {},
          "output_type": "display_data"
        },
        {
          "data": {
            "application/vnd.jupyter.widget-view+json": {
              "model_id": "5b02a25c3d3d448e93805aac297b2f2f",
              "version_major": 2,
              "version_minor": 0
            },
            "text/plain": [
              "tokenizer.json:   0%|          | 0.00/466k [00:00<?, ?B/s]"
            ]
          },
          "metadata": {},
          "output_type": "display_data"
        }
      ],
      "source": [
        "MODEL_NAME = \"distilbert-base-uncased\"\n",
        "tokenizer = AutoTokenizer.from_pretrained(MODEL_NAME)"
      ]
    },
    {
      "cell_type": "markdown",
      "metadata": {
        "cell_id": "f25648554b694491820a1b9d7c54ba0a",
        "deepnote_cell_type": "text-cell-p",
        "formattedRanges": [],
        "id": "lZcxpqiYeBOO"
      },
      "source": [
        "Create tokenizers that contains entities of each data"
      ]
    },
    {
      "cell_type": "code",
      "execution_count": null,
      "metadata": {
        "cell_id": "95016d13e144412ebae2257bac83e053",
        "deepnote_cell_type": "code",
        "id": "sM8u-iWHDB-n"
      },
      "outputs": [],
      "source": [
        "def align_labels_with_tokens(text, entities, tokenizer):\n",
        "    \"\"\"\n",
        "    Tokenize the input text using the provided tokenizer.\n",
        "    - padding='max_length': Ensures all sequences are padded to the same length.\n",
        "    - max_length=128: Limits the tokenized sequence length to 128 tokens.\n",
        "    - truncation=True: Truncates sequences longer than the maximum length.\n",
        "    - return_offsets_mapping=True: Returns the mapping of character start and end positions for each token.\n",
        "    - return_tensors='np': Outputs the tokens as NumPy arrays.\n",
        "    \"\"\"\n",
        "    tokens = tokenizer(text, padding='max_length',max_length=128, truncation=True, return_offsets_mapping=True, return_tensors='np')\n",
        "\n",
        "    # Initialize a list of labels corresponding to tokens with \"O\" (Outside)\n",
        "    labels = [\"O\"] * len(tokens[\"input_ids\"][0])\n",
        "\n",
        "    for entity in ast.literal_eval(entities):\n",
        "        # Extract the start and end character positions\n",
        "        start, end, label = entity['start_offset'], entity['end_offset'], entity['label']\n",
        "        for i, (token_start, token_end) in enumerate(tokens[\"offset_mapping\"][0]):\n",
        "            # Check if the token is within the range of the entity.\n",
        "            if token_start >= start and token_end <= end:\n",
        "                if token_start == start:\n",
        "                    # Assign the beginning label (B-label)\n",
        "                    labels[i] = f\"B-{label}\"\n",
        "                else:\n",
        "                    # Assign the inside label (I-label)\n",
        "                    labels[i] = f\"I-{label}\"\n",
        "\n",
        "    # Convert the string labels into their corresponding numerical IDs\n",
        "    label_ids = [label2id[label] for label in labels]\n",
        "    return tokens, label_ids\n",
        "\n",
        "tokenized_texts = []\n",
        "token_labels = []\n",
        "\n",
        "for text, entity_list in zip(texts, entities):\n",
        "    tokens, labels = align_labels_with_tokens(text, entity_list, tokenizer)\n",
        "    tokenized_texts.append(tokens)\n",
        "    token_labels.append(labels)"
      ]
    },
    {
      "cell_type": "markdown",
      "metadata": {
        "cell_id": "7ba61e2cfc5c43e69579b2582107cdcf",
        "deepnote_cell_type": "text-cell-p",
        "formattedRanges": [],
        "id": "J9itJqfKeBOP"
      },
      "source": [
        "Create tensorflow dataset using input IDs, attention masks, and label IDs with batch size of 16."
      ]
    },
    {
      "cell_type": "code",
      "execution_count": null,
      "metadata": {
        "cell_id": "a1478564b11442b5a7b43f0af3e443f2",
        "deepnote_cell_type": "code",
        "id": "ICPwT-NvDE-m"
      },
      "outputs": [],
      "source": [
        "def create_tf_dataset(tokenized_texts, token_labels, batch_size=16):\n",
        "    input_ids = [tokens[\"input_ids\"][0] for tokens in tokenized_texts]\n",
        "    attention_masks = [tokens[\"attention_mask\"][0] for tokens in tokenized_texts]\n",
        "    label_ids = token_labels\n",
        "\n",
        "    dataset = tf.data.Dataset.from_tensor_slices((\n",
        "        {\"input_ids\": input_ids, \"attention_mask\": attention_masks},\n",
        "        label_ids\n",
        "    ))\n",
        "    return dataset.batch(batch_size)\n",
        "\n",
        "train_dataset = create_tf_dataset(tokenized_texts, token_labels)\n"
      ]
    },
    {
      "cell_type": "markdown",
      "metadata": {
        "cell_id": "445b776652324a4b9a65532913dc5377",
        "deepnote_cell_type": "text-cell-p",
        "formattedRanges": [],
        "id": "22_651HLeBOP"
      },
      "source": [
        "Create model using the label2id"
      ]
    },
    {
      "cell_type": "code",
      "execution_count": null,
      "metadata": {
        "cell_id": "f58859b8f87e45319ce57d96606a50ab",
        "colab": {
          "base_uri": "https://localhost:8080/"
        },
        "deepnote_cell_type": "code",
        "id": "U7wGEGtGDG1Q",
        "outputId": "46a5028a-efc5-48fa-e84b-15adf2ed63c7"
      },
      "outputs": [
        {
          "name": "stderr",
          "output_type": "stream",
          "text": [
            "Some weights of the PyTorch model were not used when initializing the TF 2.0 model TFDistilBertForTokenClassification: ['vocab_transform.weight', 'vocab_transform.bias', 'vocab_projector.bias', 'vocab_layer_norm.bias', 'vocab_layer_norm.weight']\n",
            "- This IS expected if you are initializing TFDistilBertForTokenClassification from a PyTorch model trained on another task or with another architecture (e.g. initializing a TFBertForSequenceClassification model from a BertForPreTraining model).\n",
            "- This IS NOT expected if you are initializing TFDistilBertForTokenClassification from a PyTorch model that you expect to be exactly identical (e.g. initializing a TFBertForSequenceClassification model from a BertForSequenceClassification model).\n",
            "Some weights or buffers of the TF 2.0 model TFDistilBertForTokenClassification were not initialized from the PyTorch model and are newly initialized: ['classifier.weight', 'classifier.bias']\n",
            "You should probably TRAIN this model on a down-stream task to be able to use it for predictions and inference.\n"
          ]
        }
      ],
      "source": [
        "model = TFAutoModelForTokenClassification.from_pretrained(\n",
        "    MODEL_NAME,\n",
        "    num_labels=len(label_list),\n",
        "    id2label=id2label,\n",
        "    label2id=label2id\n",
        ")"
      ]
    },
    {
      "cell_type": "code",
      "execution_count": null,
      "metadata": {
        "cell_id": "b5c95e901fb84e8a8cddc5185cfaf82c",
        "deepnote_cell_type": "code",
        "id": "Ac6nfT8hDIVc"
      },
      "outputs": [],
      "source": [
        "# Compile the model\n",
        "loss = tf.keras.losses.SparseCategoricalCrossentropy(from_logits=True)\n",
        "optimizer = tf.keras.optimizers.Adam(learning_rate=5e-5)\n",
        "model.compile(optimizer=optimizer, loss=loss, metrics=[\"accuracy\"])\n",
        "\n",
        "# Train the model\n",
        "model.fit(train_dataset, epochs=3)\n"
      ]
    },
    {
      "cell_type": "markdown",
      "metadata": {
        "cell_id": "3d78970653c64c06b2fb340de17e00f3",
        "deepnote_cell_type": "text-cell-p",
        "formattedRanges": [],
        "id": "7jN1TlBoeBOP"
      },
      "source": [
        "Save model"
      ]
    },
    {
      "cell_type": "code",
      "execution_count": null,
      "metadata": {
        "cell_id": "a7d3fbe576b04c9db6c6a3f9a0f572c2",
        "deepnote_cell_type": "code",
        "id": "kwabdo2UeBOP"
      },
      "outputs": [],
      "source": [
        "model.save_pretrained(\"../model/NER_model\")\n",
        "tokenizer.save_pretrained(\"../model/NER_tokenizer\")"
      ]
    },
    {
      "cell_type": "markdown",
      "metadata": {
        "cell_id": "b2fd266506db4f9e91f8b159bda240cd",
        "deepnote_app_block_visible": false,
        "deepnote_cell_type": "text-cell-h2",
        "formattedRanges": [],
        "is_collapsed": false,
        "id": "WwCC1AkdeBOP"
      },
      "source": [
        "### Evaluate NER"
      ]
    },
    {
      "cell_type": "code",
      "execution_count": null,
      "metadata": {
        "cell_id": "3cf471b8d1994e1986f97b8798d36b88",
        "deepnote_cell_type": "code",
        "id": "f1cXS2rZeBOP"
      },
      "outputs": [],
      "source": [
        "def evaluate_combined_df(df, tokenizer, model, label2id):\n",
        "    y_true = []\n",
        "    y_pred = []\n",
        "\n",
        "    for text, entity_list in zip(df['text'], df['entities']):\n",
        "        # Align tokens\n",
        "        tokens, true_labels = align_labels_with_tokens(text, entity_list, tokenizer)\n",
        "        # Predict using input IDs and attention mask\n",
        "        predictions = model.predict({\"input_ids\": tokens[\"input_ids\"], \"attention_mask\": tokens[\"attention_mask\"]})\n",
        "        predicted_ids = np.argmax(predictions.logits, axis=-1)[0]\n",
        "        predicted_labels = [id2label[id] for id in predicted_ids]\n",
        "\n",
        "        # Filter out padding tokens\n",
        "        true_labels_filtered = [id2label[label] for label, token in zip(true_labels, tokens[\"attention_mask\"][0]) if token == 1]\n",
        "        predicted_labels_filtered = [label for label, token in zip(predicted_labels, tokens[\"attention_mask\"][0]) if token == 1]\n",
        "\n",
        "        y_true.extend(true_labels_filtered)\n",
        "        y_pred.extend(predicted_labels_filtered)\n",
        "\n",
        "    print(\"Label-label yang diprediksi:\")\n",
        "    print(list(set(y_pred)))\n",
        "\n",
        "    return y_true, y_pred, classification_report(\n",
        "        y_true,\n",
        "        y_pred,\n",
        "        labels=list(label2id.keys()),\n",
        "        zero_division=0\n",
        "    )\n",
        "\n",
        "y_true, y_pred, class_report = evaluate_combined_df(combined_df, tokenizer, model, label2id)\n",
        "\n"
      ]
    },
    {
      "cell_type": "code",
      "execution_count": null,
      "metadata": {
        "id": "mgyzSvCTeG5r",
        "outputId": "0cb1e281-5bbe-458f-d6c8-adc26c48f72a"
      },
      "outputs": [
        {
          "name": "stdout",
          "output_type": "stream",
          "text": [
            "Requirement already satisfied: transformers[torch] in c:\\users\\user\\appdata\\local\\programs\\python\\python311\\lib\\site-packages (4.45.2)\n",
            "Requirement already satisfied: filelock in c:\\users\\user\\appdata\\local\\programs\\python\\python311\\lib\\site-packages (from transformers[torch]) (3.16.1)\n",
            "Requirement already satisfied: huggingface-hub<1.0,>=0.23.2 in c:\\users\\user\\appdata\\local\\programs\\python\\python311\\lib\\site-packages (from transformers[torch]) (0.25.1)\n",
            "Requirement already satisfied: numpy>=1.17 in c:\\users\\user\\appdata\\local\\programs\\python\\python311\\lib\\site-packages (from transformers[torch]) (1.26.3)\n",
            "Requirement already satisfied: packaging>=20.0 in c:\\users\\user\\appdata\\local\\programs\\python\\python311\\lib\\site-packages (from transformers[torch]) (23.2)\n",
            "Requirement already satisfied: pyyaml>=5.1 in c:\\users\\user\\appdata\\local\\programs\\python\\python311\\lib\\site-packages (from transformers[torch]) (6.0.2)\n",
            "Requirement already satisfied: regex!=2019.12.17 in c:\\users\\user\\appdata\\local\\programs\\python\\python311\\lib\\site-packages (from transformers[torch]) (2024.9.11)\n",
            "Requirement already satisfied: requests in c:\\users\\user\\appdata\\local\\programs\\python\\python311\\lib\\site-packages (from transformers[torch]) (2.32.3)\n",
            "Requirement already satisfied: safetensors>=0.4.1 in c:\\users\\user\\appdata\\local\\programs\\python\\python311\\lib\\site-packages (from transformers[torch]) (0.4.5)\n",
            "Requirement already satisfied: tokenizers<0.21,>=0.20 in c:\\users\\user\\appdata\\local\\programs\\python\\python311\\lib\\site-packages (from transformers[torch]) (0.20.0)\n",
            "Requirement already satisfied: tqdm>=4.27 in c:\\users\\user\\appdata\\local\\programs\\python\\python311\\lib\\site-packages (from transformers[torch]) (4.66.5)\n",
            "Requirement already satisfied: accelerate>=0.26.0 in c:\\users\\user\\appdata\\local\\programs\\python\\python311\\lib\\site-packages (from transformers[torch]) (1.0.0)\n",
            "Requirement already satisfied: torch in c:\\users\\user\\appdata\\local\\programs\\python\\python311\\lib\\site-packages (from transformers[torch]) (2.4.1)\n",
            "Requirement already satisfied: psutil in c:\\users\\user\\appdata\\roaming\\python\\python311\\site-packages (from accelerate>=0.26.0->transformers[torch]) (5.9.4)\n",
            "Requirement already satisfied: fsspec>=2023.5.0 in c:\\users\\user\\appdata\\local\\programs\\python\\python311\\lib\\site-packages (from huggingface-hub<1.0,>=0.23.2->transformers[torch]) (2024.6.1)\n",
            "Requirement already satisfied: typing-extensions>=3.7.4.3 in c:\\users\\user\\appdata\\local\\programs\\python\\python311\\lib\\site-packages (from huggingface-hub<1.0,>=0.23.2->transformers[torch]) (4.12.2)\n",
            "Requirement already satisfied: sympy in c:\\users\\user\\appdata\\local\\programs\\python\\python311\\lib\\site-packages (from torch->transformers[torch]) (1.12)\n",
            "Requirement already satisfied: networkx in c:\\users\\user\\appdata\\local\\programs\\python\\python311\\lib\\site-packages (from torch->transformers[torch]) (3.3)\n",
            "Requirement already satisfied: jinja2 in c:\\users\\user\\appdata\\local\\programs\\python\\python311\\lib\\site-packages (from torch->transformers[torch]) (3.1.4)\n",
            "Requirement already satisfied: colorama in c:\\users\\user\\appdata\\roaming\\python\\python311\\site-packages (from tqdm>=4.27->transformers[torch]) (0.4.6)\n",
            "Requirement already satisfied: charset-normalizer<4,>=2 in c:\\users\\user\\appdata\\local\\programs\\python\\python311\\lib\\site-packages (from requests->transformers[torch]) (3.3.2)\n",
            "Requirement already satisfied: idna<4,>=2.5 in c:\\users\\user\\appdata\\local\\programs\\python\\python311\\lib\\site-packages (from requests->transformers[torch]) (3.6)\n",
            "Requirement already satisfied: urllib3<3,>=1.21.1 in c:\\users\\user\\appdata\\local\\programs\\python\\python311\\lib\\site-packages (from requests->transformers[torch]) (2.1.0)\n",
            "Requirement already satisfied: certifi>=2017.4.17 in c:\\users\\user\\appdata\\local\\programs\\python\\python311\\lib\\site-packages (from requests->transformers[torch]) (2023.11.17)\n",
            "Requirement already satisfied: MarkupSafe>=2.0 in c:\\users\\user\\appdata\\local\\programs\\python\\python311\\lib\\site-packages (from jinja2->torch->transformers[torch]) (2.1.3)\n",
            "Requirement already satisfied: mpmath>=0.19 in c:\\users\\user\\appdata\\local\\programs\\python\\python311\\lib\\site-packages (from sympy->torch->transformers[torch]) (1.3.0)\n",
            "Note: you may need to restart the kernel to use updated packages.\n"
          ]
        },
        {
          "name": "stderr",
          "output_type": "stream",
          "text": [
            "\n",
            "[notice] A new release of pip is available: 24.2 -> 24.3.1\n",
            "[notice] To update, run: python.exe -m pip install --upgrade pip\n"
          ]
        }
      ],
      "source": [
        "!pip install transformers[torch]"
      ]
    },
    {
      "cell_type": "code",
      "execution_count": null,
      "metadata": {
        "id": "aNtnU71ZeG5s",
        "outputId": "a0793738-e70e-4b10-8a6c-b9ef548ed06b"
      },
      "outputs": [
        {
          "name": "stderr",
          "output_type": "stream",
          "text": [
            "c:\\Users\\user\\AppData\\Local\\Programs\\Python\\Python311\\Lib\\site-packages\\tqdm\\auto.py:21: TqdmWarning: IProgress not found. Please update jupyter and ipywidgets. See https://ipywidgets.readthedocs.io/en/stable/user_install.html\n",
            "  from .autonotebook import tqdm as notebook_tqdm\n"
          ]
        }
      ],
      "source": [
        "from transformers import DistilBertTokenizer, AutoModelForSequenceClassification\n",
        "from itertools import combinations"
      ]
    },
    {
      "cell_type": "markdown",
      "metadata": {
        "id": "u4E3FCtReG5t"
      },
      "source": [
        "## Relation Extraction Task"
      ]
    },
    {
      "cell_type": "code",
      "execution_count": null,
      "metadata": {
        "id": "TFi45uqoeG5u"
      },
      "outputs": [],
      "source": [
        "def generate_new_data_relation_feature(text, entities):\n",
        "    processed_entities = [entity for entity in entities if entity != 'O']\n",
        "    processed_entities = [entity[2:] if entity.startswith((\"B-\", \"I-\")) else entity for entity in processed_entities]\n",
        "\n",
        "    entity_pairs = list(combinations(entities, 2))\n",
        "\n",
        "    features = []\n",
        "    for entity_1, entity_2 in entity_pairs:\n",
        "        # Generate input text\n",
        "        input_text = f\"{text} [SEP] {entity_1} [SEP] {entity_2}\"\n",
        "\n",
        "        features.append([input_text, entity_1, entity_2])\n",
        "\n",
        "    return features"
      ]
    },
    {
      "cell_type": "code",
      "execution_count": null,
      "metadata": {
        "id": "VOehseiIeG5v"
      },
      "outputs": [],
      "source": [
        "relation_extraction_tokenizer = DistilBertTokenizer.from_pretrained(\"distilbert-base-uncased\")\n",
        "relation_extraction_model = AutoModelForSequenceClassification.from_pretrained(\"GoDillonAudris/distilbert-relation-extraction\")\n",
        "\n",
        "label_list = ['attributed-to',\n",
        "             'authored-by',\n",
        "             'beacons-to',\n",
        "             'communicates-with',\n",
        "             'compromises',\n",
        "             'consists-of',\n",
        "             'controls',\n",
        "             'delivers',\n",
        "             'downloads',\n",
        "             'drops',\n",
        "             'duplicate-of',\n",
        "             'exfiltrates-to',\n",
        "             'exploits',\n",
        "             'has',\n",
        "             'hosts',\n",
        "             'impersonates',\n",
        "             'indicates',\n",
        "             'located-at',\n",
        "             'no_relation',\n",
        "             'originates-from',\n",
        "             'owns',\n",
        "             'related-to',\n",
        "             'targets',\n",
        "             'uses']"
      ]
    },
    {
      "cell_type": "code",
      "execution_count": null,
      "metadata": {
        "id": "a_V6sFCieG5v"
      },
      "outputs": [],
      "source": [
        "def predict_relations(text, entities):\n",
        "    features = generate_new_data_relation_feature(text, entities)\n",
        "\n",
        "    relations = []\n",
        "    for feature in features:\n",
        "        inputs = relation_extraction_tokenizer(feature[0], return_tensors=\"pt\")\n",
        "        outputs = relation_extraction_model(**inputs)\n",
        "\n",
        "        predictions = outputs.logits\n",
        "        predicted_label = predictions.argmax(dim=1).item()\n",
        "\n",
        "        decoded_label = label_list[predicted_label]\n",
        "\n",
        "        if decoded_label != 'no_relation':\n",
        "            relations.append(feature[1] + \" \" + decoded_label + \" \" + feature[2])\n",
        "\n",
        "    return relations"
      ]
    },
    {
      "cell_type": "markdown",
      "metadata": {
        "id": "heDyRgcpeG5v"
      },
      "source": [
        "## Pipeline"
      ]
    },
    {
      "cell_type": "code",
      "execution_count": null,
      "metadata": {
        "id": "wjSCTllxeG5w"
      },
      "outputs": [],
      "source": [
        "# Assume there is text, and entities list\n",
        "text = \"\"\n",
        "entities = y_pred\n",
        "\n",
        "# Relation extraction task\n",
        "relations = predict_relations(text, entities)"
      ]
    }
  ],
  "metadata": {
    "kernelspec": {
      "display_name": "Python 3",
      "language": "python",
      "name": "python3"
    },
    "language_info": {
      "codemirror_mode": {
        "name": "ipython",
        "version": 3
      },
      "file_extension": ".py",
      "mimetype": "text/x-python",
      "name": "python",
      "nbconvert_exporter": "python",
      "pygments_lexer": "ipython3",
      "version": "3.11.6"
    },
    "colab": {
      "provenance": [],
      "toc_visible": true
    }
  },
  "nbformat": 4,
  "nbformat_minor": 0
}